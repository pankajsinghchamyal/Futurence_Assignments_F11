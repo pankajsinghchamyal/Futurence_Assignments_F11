{
 "cells": [
  {
   "cell_type": "code",
   "execution_count": 41,
   "id": "c4c7f490-2cd6-4378-9446-d0967f7b42ee",
   "metadata": {},
   "outputs": [],
   "source": [
    "from PyPDF2 import PdfFileWriter, PdfFileReader\n",
    "import sqlalchemy\n",
    "from sqlalchemy import create_engine\n",
    "import time\n",
    "import os\n",
    "import datetime\n",
    "from datetime import datetime\n"
   ]
  },
  {
   "cell_type": "code",
   "execution_count": 42,
   "id": "79dfc742-a167-4081-b0b0-d19eb98e8ce3",
   "metadata": {},
   "outputs": [],
   "source": [
    "# importing required libraries\n",
    "import mysql.connector\n",
    "\n"
   ]
  },
  {
   "cell_type": "code",
   "execution_count": 43,
   "id": "0bb8ebdd-db59-4327-9043-4b36147e3cac",
   "metadata": {},
   "outputs": [
    {
     "name": "stdout",
     "output_type": "stream",
     "text": [
      "<mysql.connector.connection_cext.CMySQLConnection object at 0x0000024280E46280>\n"
     ]
    }
   ],
   "source": [
    "dataBase = mysql.connector.connect(\n",
    "host =\"localhost\",\n",
    "user =\"root\",\n",
    "passwd =\"mysql123\"\n",
    ")\n",
    "\n",
    "print(dataBase)\n",
    "\n",
    "# # Disconnecting from the server\n",
    "# dataBase.close()"
   ]
  },
  {
   "cell_type": "code",
   "execution_count": 44,
   "id": "a73b4605-ed2d-4742-834e-bc916195b75d",
   "metadata": {},
   "outputs": [
    {
     "ename": "DatabaseError",
     "evalue": "1007 (HY000): Can't create database 'futurence'; database exists",
     "output_type": "error",
     "traceback": [
      "\u001b[1;31m---------------------------------------------------------------------------\u001b[0m",
      "\u001b[1;31mMySQLInterfaceError\u001b[0m                       Traceback (most recent call last)",
      "\u001b[1;32m~\\Anaconda3\\envs\\tf2.4\\lib\\site-packages\\mysql\\connector\\connection_cext.py\u001b[0m in \u001b[0;36mcmd_query\u001b[1;34m(self, query, raw, buffered, raw_as_string)\u001b[0m\n\u001b[0;32m    522\u001b[0m                 \u001b[0mquery\u001b[0m \u001b[1;33m=\u001b[0m \u001b[0mquery\u001b[0m\u001b[1;33m.\u001b[0m\u001b[0mencode\u001b[0m\u001b[1;33m(\u001b[0m\u001b[1;34m'utf-8'\u001b[0m\u001b[1;33m)\u001b[0m\u001b[1;33m\u001b[0m\u001b[1;33m\u001b[0m\u001b[0m\n\u001b[1;32m--> 523\u001b[1;33m             self._cmysql.query(query,\n\u001b[0m\u001b[0;32m    524\u001b[0m                                \u001b[0mraw\u001b[0m\u001b[1;33m=\u001b[0m\u001b[0mraw\u001b[0m\u001b[1;33m,\u001b[0m \u001b[0mbuffered\u001b[0m\u001b[1;33m=\u001b[0m\u001b[0mbuffered\u001b[0m\u001b[1;33m,\u001b[0m\u001b[1;33m\u001b[0m\u001b[1;33m\u001b[0m\u001b[0m\n",
      "\u001b[1;31mMySQLInterfaceError\u001b[0m: Can't create database 'futurence'; database exists",
      "\nDuring handling of the above exception, another exception occurred:\n",
      "\u001b[1;31mDatabaseError\u001b[0m                             Traceback (most recent call last)",
      "\u001b[1;32m~\\AppData\\Local\\Temp/ipykernel_19744/4264595586.py\u001b[0m in \u001b[0;36m<module>\u001b[1;34m\u001b[0m\n\u001b[0;32m      2\u001b[0m \u001b[0mcursorObject\u001b[0m \u001b[1;33m=\u001b[0m \u001b[0mdataBase\u001b[0m\u001b[1;33m.\u001b[0m\u001b[0mcursor\u001b[0m\u001b[1;33m(\u001b[0m\u001b[1;33m)\u001b[0m\u001b[1;33m\u001b[0m\u001b[1;33m\u001b[0m\u001b[0m\n\u001b[0;32m      3\u001b[0m \u001b[1;31m# creating database\u001b[0m\u001b[1;33m\u001b[0m\u001b[1;33m\u001b[0m\u001b[1;33m\u001b[0m\u001b[0m\n\u001b[1;32m----> 4\u001b[1;33m \u001b[0mcursorObject\u001b[0m\u001b[1;33m.\u001b[0m\u001b[0mexecute\u001b[0m\u001b[1;33m(\u001b[0m\u001b[1;34m\"CREATE DATABASE futurence\"\u001b[0m\u001b[1;33m)\u001b[0m\u001b[1;33m\u001b[0m\u001b[1;33m\u001b[0m\u001b[0m\n\u001b[0m",
      "\u001b[1;32m~\\Anaconda3\\envs\\tf2.4\\lib\\site-packages\\mysql\\connector\\cursor_cext.py\u001b[0m in \u001b[0;36mexecute\u001b[1;34m(self, operation, params, multi)\u001b[0m\n\u001b[0;32m    267\u001b[0m \u001b[1;33m\u001b[0m\u001b[0m\n\u001b[0;32m    268\u001b[0m         \u001b[1;32mtry\u001b[0m\u001b[1;33m:\u001b[0m\u001b[1;33m\u001b[0m\u001b[1;33m\u001b[0m\u001b[0m\n\u001b[1;32m--> 269\u001b[1;33m             result = self._cnx.cmd_query(stmt, raw=self._raw,\n\u001b[0m\u001b[0;32m    270\u001b[0m                                          \u001b[0mbuffered\u001b[0m\u001b[1;33m=\u001b[0m\u001b[0mself\u001b[0m\u001b[1;33m.\u001b[0m\u001b[0m_buffered\u001b[0m\u001b[1;33m,\u001b[0m\u001b[1;33m\u001b[0m\u001b[1;33m\u001b[0m\u001b[0m\n\u001b[0;32m    271\u001b[0m                                          raw_as_string=self._raw_as_string)\n",
      "\u001b[1;32m~\\Anaconda3\\envs\\tf2.4\\lib\\site-packages\\mysql\\connector\\connection_cext.py\u001b[0m in \u001b[0;36mcmd_query\u001b[1;34m(self, query, raw, buffered, raw_as_string)\u001b[0m\n\u001b[0;32m    526\u001b[0m                                query_attrs=self._query_attrs)\n\u001b[0;32m    527\u001b[0m         \u001b[1;32mexcept\u001b[0m \u001b[0mMySQLInterfaceError\u001b[0m \u001b[1;32mas\u001b[0m \u001b[0mexc\u001b[0m\u001b[1;33m:\u001b[0m\u001b[1;33m\u001b[0m\u001b[1;33m\u001b[0m\u001b[0m\n\u001b[1;32m--> 528\u001b[1;33m             raise errors.get_mysql_exception(exc.errno, msg=exc.msg,\n\u001b[0m\u001b[0;32m    529\u001b[0m                                              sqlstate=exc.sqlstate)\n\u001b[0;32m    530\u001b[0m         \u001b[1;32mexcept\u001b[0m \u001b[0mAttributeError\u001b[0m\u001b[1;33m:\u001b[0m\u001b[1;33m\u001b[0m\u001b[1;33m\u001b[0m\u001b[0m\n",
      "\u001b[1;31mDatabaseError\u001b[0m: 1007 (HY000): Can't create database 'futurence'; database exists"
     ]
    }
   ],
   "source": [
    "# preparing a cursor object\n",
    "# cursorObject = dataBase.cursor()\n",
    "# # creating database\n",
    "# cursorObject.execute(\"CREATE DATABASE futurence\")\n"
   ]
  },
  {
   "cell_type": "code",
   "execution_count": 51,
   "id": "a447320e-c9a2-449a-95b1-cc21fdc69fdc",
   "metadata": {},
   "outputs": [],
   "source": [
    "# importing required libraries\n",
    "\n",
    "dataBase = mysql.connector.connect(\n",
    "host =\"localhost\",\n",
    "user =\"root\",\n",
    "passwd =\"mysql123\",\n",
    "database = \"futurence\"\n",
    ")\n",
    "\n",
    "# preparing a cursor object\n",
    "cursorObject = dataBase.cursor()\n",
    "\n",
    "# creating table\n",
    "Record = \"\"\"CREATE TABLE STUDENT (\n",
    "\t\t\t\tpdf_name VARCHAR(80) NOT NULL,\n",
    "\t\t\t\tencrypt_time VARCHAR(50),\n",
    "\t\t\t\tfile_size INT NOT NULL\n",
    "\t\t\t\t)\"\"\"\n",
    "\n",
    "# table created\n",
    "cursorObject.execute(Record)\n",
    "\n"
   ]
  },
  {
   "cell_type": "code",
   "execution_count": null,
   "id": "f1c5a08f-caf1-4db2-962a-4a8ce13a29c3",
   "metadata": {},
   "outputs": [],
   "source": [
    "# importing required libraries\n",
    "import mysql.connector\n",
    "\n",
    "dataBase = mysql.connector.connect(\n",
    "host =\"localhost\",\n",
    "user =\"root\",\n",
    "passwd =\"mysql123\",\n",
    "database = \"ig_clone\"\n",
    ")\n",
    "\n",
    "# preparing a cursor object\n",
    "cursorObject = dataBase.cursor()\n",
    "\n",
    "sql = \"INSERT INTO STUDENT (pdf_name,encrypt_time, file_size)\\\n",
    "VALUES (%s, %s, %s)\"\n",
    "val = (\"Ram\", \"CSE\", \"85\", \"B\", \"19\")\n",
    "\n",
    "cursorObject.execute(sql, val)\n",
    "dataBase.commit()\n",
    "\n",
    "# disconnecting from server\n",
    "dataBase.close()\n"
   ]
  },
  {
   "cell_type": "code",
   "execution_count": 16,
   "id": "aef7f01e-3327-4f2d-9426-d6a7c4130155",
   "metadata": {},
   "outputs": [],
   "source": [
    "user = 'root'\n",
    "password = 'mysql123'\n",
    "host = '127.0.0.1'\n",
    "port = 3306\n",
    "database = 'ig_clone'"
   ]
  },
  {
   "cell_type": "code",
   "execution_count": 17,
   "id": "f5cc1f8c-8780-4b87-93fd-967f29cd268a",
   "metadata": {},
   "outputs": [
    {
     "name": "stdout",
     "output_type": "stream",
     "text": [
      "Connection to the 127.0.0.1 for user root created successfully.\n"
     ]
    }
   ],
   "source": [
    "def get_connection():\n",
    "    return create_engine(\n",
    "        url=\"mysql+pymysql://{0}:{1}@{2}:{3}/{4}\".format(\n",
    "            user, password, host, port, database\n",
    "        )\n",
    "    )\n",
    "  \n",
    "  \n",
    "if __name__ == '__main__':\n",
    "  \n",
    "    try:\n",
    "        \n",
    "        # GET THE CONNECTION OBJECT (ENGINE) FOR THE DATABASE\n",
    "        engine = get_connection()\n",
    "        print(\n",
    "            f\"Connection to the {host} for user {user} created successfully.\")\n",
    "    except Exception as ex:\n",
    "        print(\"Connection could not be made due to the following error: \\n\", ex)"
   ]
  },
  {
   "cell_type": "code",
   "execution_count": 46,
   "id": "29556273-76b1-44f4-b401-d5a045578974",
   "metadata": {},
   "outputs": [],
   "source": [
    "files  = os.listdir()"
   ]
  },
  {
   "cell_type": "code",
   "execution_count": 47,
   "id": "9b01b1d4-4d5c-4566-b23f-b3ddc42421b6",
   "metadata": {},
   "outputs": [
    {
     "data": {
      "text/plain": [
       "['.ipynb_checkpoints',\n",
       " '1.pdf',\n",
       " '22_Apr_26_21_45_27.pdf',\n",
       " '22_Apr_26_22_18_33.pdf',\n",
       " '22_Apr_26_22_18_38.pdf',\n",
       " '2_MySqlNotes_Personal_note.pdf',\n",
       " '450_Notes.pdf',\n",
       " 'build',\n",
       " 'Day_1_Assignment.ipynb',\n",
       " 'Day_1_futurence.ipynb',\n",
       " 'Day_1_futurence.spec',\n",
       " 'dist',\n",
       " 'hello.jpg',\n",
       " 'hello22_Apr_26_15_18_01.png',\n",
       " 'hii.jpg']"
      ]
     },
     "execution_count": 47,
     "metadata": {},
     "output_type": "execute_result"
    }
   ],
   "source": [
    "files"
   ]
  },
  {
   "cell_type": "code",
   "execution_count": 52,
   "id": "794efbdf-830f-47c0-b0a4-68dd357ab84f",
   "metadata": {},
   "outputs": [],
   "source": [
    "def is_encrypted(filename: str) -> bool:\n",
    "    with open(filename, 'rb') as f:\n",
    "        pdf_reader = PdfFileReader(f, strict=False)\n",
    "        return pdf_reader.isEncrypted"
   ]
  },
  {
   "cell_type": "code",
   "execution_count": 54,
   "id": "9d9b8622-c5d0-4dff-b8ff-9a2ba9b92298",
   "metadata": {},
   "outputs": [],
   "source": [
    "for i in files:\n",
    "    if i.endswith(\".pdf\") and is_encrypted(i)== False:\n",
    "        # create a PdfFileWriter object\n",
    "        out = PdfFileWriter()\n",
    "\n",
    "        # Open our PDF file with the PdfFileReader\n",
    "        file = PdfFileReader(i)\n",
    "\n",
    "        # Get number of pages in original file\n",
    "        num = file.numPages\n",
    "\n",
    "        # Iterate through every page of the original\n",
    "        # file and add it to our new file.\n",
    "        for idx in range(num):\n",
    "\n",
    "            # Get the page at index idx\n",
    "            page = file.getPage(idx)\n",
    "\n",
    "            # Add it to the output file\n",
    "            out.addPage(page)\n",
    "\n",
    "\n",
    "        # Create a variable password and store\n",
    "        # our password in it.\n",
    "        current_time = datetime.now().replace(microsecond=0)\n",
    "        fomat = \"%y_%b_%d_%H_%M_%S\"\n",
    "        current_time = datetime.strftime(current_time,fomat)\n",
    "        password = current_time\n",
    "\n",
    "        # Encrypt the new file with the entered password\n",
    "        out.encrypt(password)\n",
    "\n",
    "        # Open a new file \"myfile_encrypted.pdf\"\n",
    "        with open(password + \".pdf\", \"wb\") as f:\n",
    "\n",
    "            # Write our encrypted PDF to this file\n",
    "            out.write(f)\n",
    "            \n",
    "            # importing required libraries\n",
    "            import mysql.connector\n",
    "\n",
    "            dataBase = mysql.connector.connect(\n",
    "            host =\"localhost\",\n",
    "            user =\"root\",\n",
    "            passwd =\"mysql123\",\n",
    "            database = \"futurence\"\n",
    "            )\n",
    "\n",
    "            # preparing a cursor object\n",
    "            cursorObject = dataBase.cursor()\n",
    "\n",
    "            sql = \"INSERT INTO STUDENT (pdf_name,encrypt_time, file_size)\\\n",
    "            VALUES (%s, %s, %s)\"\n",
    "            val = (password, password, os.path.getsize(password+\".pdf\"))\n",
    "\n",
    "            cursorObject.execute(sql, val)\n",
    "            dataBase.commit()\n",
    "\n",
    "            # disconnecting from server\n",
    "            dataBase.close()\n",
    "\n",
    "\n",
    "\n",
    "        "
   ]
  }
 ],
 "metadata": {
  "kernelspec": {
   "display_name": "Python 3 (ipykernel)",
   "language": "python",
   "name": "python3"
  },
  "language_info": {
   "codemirror_mode": {
    "name": "ipython",
    "version": 3
   },
   "file_extension": ".py",
   "mimetype": "text/x-python",
   "name": "python",
   "nbconvert_exporter": "python",
   "pygments_lexer": "ipython3",
   "version": "3.8.0"
  }
 },
 "nbformat": 4,
 "nbformat_minor": 5
}
