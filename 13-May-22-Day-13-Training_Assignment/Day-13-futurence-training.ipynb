{
 "cells": [
  {
   "cell_type": "code",
   "execution_count": 1,
   "id": "4532b614-e3b5-43de-bdaa-e39c4da08f32",
   "metadata": {},
   "outputs": [
    {
     "name": "stdout",
     "output_type": "stream",
     "text": [
      "welcome to python\n",
      "wellcome to oops\n"
     ]
    }
   ],
   "source": [
    "class My_Class:\n",
    "    def fun():\n",
    "        print(\"welcome to python\")\n",
    "    \n",
    "    def two():\n",
    "        print(\"wellcome to oops\")\n",
    "\n",
    "My_Class.fun()\n",
    "My_Class.two()"
   ]
  },
  {
   "cell_type": "code",
   "execution_count": 3,
   "id": "5e6302bf-8a1c-4f87-8e87-db8602c770e0",
   "metadata": {},
   "outputs": [
    {
     "name": "stdout",
     "output_type": "stream",
     "text": [
      "welcome to python\n",
      "wellcome to oops\n"
     ]
    }
   ],
   "source": [
    "class My_Class:\n",
    "    def fun():\n",
    "        print(\"welcome to python\")\n",
    "    \n",
    "    def two():\n",
    "        print(\"wellcome to oops\")\n",
    "\n",
    "my = My_Class\n",
    "my.fun()\n",
    "my.two()"
   ]
  },
  {
   "cell_type": "code",
   "execution_count": 5,
   "id": "de0c5527-2aa5-409e-bf37-65695ca366ac",
   "metadata": {},
   "outputs": [],
   "source": [
    "class My_Server:\n",
    "    \n",
    "    def __init__ (dhoni,ip,pwd):\n",
    "        \n",
    "        dhoni.ip = ip\n",
    "        dhoni.pwd = pwd\n",
    "    \n",
    "    def server_login(dhoni):\n",
    "        print(\"welcome to python\", dhoni.ip)\n",
    "        \n",
    "    def hostname(dhoni):\n",
    "        print(\"wellcome to oops\",dhoni.ip, dhoni.pwd)\n",
    "my = My_Server(\"2.2.2.2\",\"123\")\n"
   ]
  },
  {
   "cell_type": "markdown",
   "id": "4203fe4f-2b47-444a-a738-e9dc2b10ff5b",
   "metadata": {},
   "source": [
    "# My_server() is called constructor\n",
    "# my is now becomes instance object reference\n",
    "# when we create constructor , we will have one hidden object created inside the constructor\n",
    "#__init__ by nature is callled as attributes or magic methods or dunder methods\n",
    "#__init__ will be created automatically when class constructor got created\n",
    "#__init__ as functionality we call as instance + initializer =  -- instantiator\\\n",
    "#__new__get called before __init__"
   ]
  },
  {
   "cell_type": "code",
   "execution_count": 6,
   "id": "90562426-523f-4033-8213-bcc19b83bb0b",
   "metadata": {},
   "outputs": [
    {
     "name": "stdout",
     "output_type": "stream",
     "text": [
      "welcome to python 2.2.2.2\n",
      "wellcome to oops 2.2.2.2 123\n"
     ]
    }
   ],
   "source": [
    "my.server_login()\n",
    "my.hostname()"
   ]
  },
  {
   "cell_type": "code",
   "execution_count": 7,
   "id": "a66f97a7-d195-44e6-9ff8-b1de2b5c4bdc",
   "metadata": {},
   "outputs": [],
   "source": [
    "#by default object as an argument is passed in the My_server class"
   ]
  },
  {
   "cell_type": "code",
   "execution_count": 9,
   "id": "055af4d8-4974-4d7a-9298-471d178e5388",
   "metadata": {},
   "outputs": [
    {
     "name": "stdout",
     "output_type": "stream",
     "text": [
      "welcome to python 2.2.2.2 india\n",
      "wellcome to oops 2.2.2.2 123\n"
     ]
    }
   ],
   "source": [
    "class My_Server:\n",
    "    \n",
    "    def __init__ (dhoni,ip,pwd):\n",
    "        \n",
    "        dhoni.ip = ip\n",
    "        dhoni.pwd = pwd\n",
    "    \n",
    "    def server_login(dhoni,country):\n",
    "        print(\"welcome to python\", dhoni.ip,country)\n",
    "        \n",
    "    def hostname(dhoni):\n",
    "        print(\"wellcome to oops\",dhoni.ip, dhoni.pwd)\n",
    "my = My_Server(\"2.2.2.2\",\"123\")\n",
    "my.server_login(\"india\")\n",
    "my.hostname()\n"
   ]
  },
  {
   "cell_type": "code",
   "execution_count": 14,
   "id": "6d042295-626a-4e0d-bd4b-7c95385184e1",
   "metadata": {},
   "outputs": [
    {
     "name": "stdout",
     "output_type": "stream",
     "text": [
      "welcome to python 2.2.2.2 india\n",
      "wellcome to oops 2.2.2.2 123\n",
      " __author__ pankaj \n",
      "    __data__ 13-05-2022\n",
      "    Class Name: MY_server\n"
     ]
    }
   ],
   "source": [
    "class My_Server:\n",
    "    \"\"\" __author__ pankaj \n",
    "    __data__ 13-05-2022\n",
    "    Class Name: MY_server\"\"\"\n",
    "    \n",
    "    def __init__ (self,ip,pwd):\n",
    "        \n",
    "        self.ip = ip\n",
    "        self.pwd = pwd\n",
    "    \n",
    "    def server_login(self,country):\n",
    "        print(\"welcome to python\", self.ip,country)\n",
    "        \n",
    "    def hostname(self):\n",
    "        print(\"wellcome to oops\",self.ip, self.pwd)\n",
    "my = My_Server(\"2.2.2.2\",\"123\")\n",
    "my.server_login(\"india\")\n",
    "my.hostname()\n",
    "print(my.__doc__)\n"
   ]
  },
  {
   "cell_type": "code",
   "execution_count": 15,
   "id": "7d1b33fb-43a3-4c82-880e-e19724d29878",
   "metadata": {},
   "outputs": [
    {
     "name": "stdout",
     "output_type": "stream",
     "text": [
      "welcome to python 2.2.2.2 india\n",
      "wellcome to oops 2.2.2.2 123\n",
      "http://testing.com\n",
      " __author__ pankaj \n",
      "    __data__ 13-05-2022\n",
      "    Class Name: MY_server\n"
     ]
    }
   ],
   "source": [
    "class My_Server:\n",
    "    \"\"\" __author__ pankaj \n",
    "    __data__ 13-05-2022\n",
    "    Class Name: MY_server\"\"\"\n",
    "    \n",
    "    def __init__ (self,ip,pwd):\n",
    "        \n",
    "        self.ip = ip\n",
    "        self.pwd = pwd\n",
    "    \n",
    "    def server_login(self,country):\n",
    "        print(\"welcome to python\", self.ip,country)\n",
    "        \n",
    "    def hostname(self):\n",
    "        print(\"wellcome to oops\",self.ip, self.pwd)\n",
    "    \n",
    "    @staticmethod\n",
    "    \n",
    "    def routing(fqdn):\n",
    "        print(fqdn)\n",
    "        \n",
    "my = My_Server(\"2.2.2.2\",\"123\")\n",
    "my.server_login(\"india\")\n",
    "my.hostname()\n",
    "my.routing(\"http://testing.com\")\n",
    "print(my.__doc__)\n"
   ]
  },
  {
   "cell_type": "markdown",
   "id": "1817f84e-9e67-49c7-abd1-150f2d241e22",
   "metadata": {},
   "source": [
    "# Scoping"
   ]
  },
  {
   "cell_type": "code",
   "execution_count": 17,
   "id": "3f21ace2-7caa-40b0-bc1d-4637e1e25e32",
   "metadata": {},
   "outputs": [
    {
     "name": "stdout",
     "output_type": "stream",
     "text": [
      "1000\n"
     ]
    }
   ],
   "source": [
    "var = 1000 # Global\n",
    "\n",
    "def fun():\n",
    "    #var = 100 # Enclosed\n",
    "    def new():\n",
    "        #var = 10 #Local Scope\n",
    "        print(var)\n",
    "    new()\n",
    "fun()"
   ]
  },
  {
   "cell_type": "code",
   "execution_count": 18,
   "id": "5a00b9dc-25cd-4250-a8e0-7c43868642eb",
   "metadata": {},
   "outputs": [
    {
     "name": "stdout",
     "output_type": "stream",
     "text": [
      "100\n",
      "10\n",
      "10\n"
     ]
    }
   ],
   "source": [
    "var = 100\n",
    "def fun():\n",
    "    global var \n",
    "    var = 10 \n",
    "    print(var)\n",
    "print(var)\n",
    "fun()\n",
    "print(var)"
   ]
  },
  {
   "cell_type": "code",
   "execution_count": 22,
   "id": "eacb9f84-cf51-40a4-a42f-2f527d00312a",
   "metadata": {},
   "outputs": [],
   "source": [
    "i = 0\n",
    "def fun():\n",
    "    global i\n",
    "    print(i,\"hello\")\n",
    "    i+=1\n",
    "    fun()\n",
    "fun()\n",
    "    \n",
    "    "
   ]
  },
  {
   "cell_type": "code",
   "execution_count": 23,
   "id": "983f4e66-3db6-4dc4-bc97-f498ce20f386",
   "metadata": {},
   "outputs": [
    {
     "name": "stdout",
     "output_type": "stream",
     "text": [
      "0 hello\n",
      "1 hello\n",
      "2 hello\n",
      "3 hello\n",
      "4 hello\n",
      "5 hello\n",
      "6 hello\n",
      "7 hello\n",
      "8 hello\n",
      "9 hello\n",
      "10 hello\n",
      "11 hello\n",
      "12 hello\n",
      "13 hello\n",
      "14 hello\n",
      "15 hello\n",
      "16 hello\n",
      "17 hello\n",
      "18 hello\n",
      "19 hello\n",
      "20 hello\n",
      "21 hello\n",
      "22 hello\n",
      "23 hello\n",
      "24 hello\n",
      "25 hello\n",
      "26 hello\n",
      "27 hello\n",
      "28 hello\n",
      "29 hello\n",
      "30 hello\n",
      "31 hello\n",
      "32 hello\n",
      "33 hello\n",
      "34 hello\n",
      "35 hello\n",
      "36 hello\n",
      "37 hello\n",
      "38 hello\n",
      "39 hello\n",
      "40 hello\n",
      "41 hello\n",
      "42 hello\n",
      "43 hello\n",
      "44 hello\n",
      "45 hello\n",
      "46 hello\n",
      "47 hello\n",
      "48 hello\n",
      "49 hello\n",
      "50 hello\n",
      "51 hello\n",
      "52 hello\n",
      "53 hello\n",
      "54 hello\n",
      "55 hello\n",
      "56 hello\n",
      "57 hello\n",
      "58 hello\n",
      "59 hello\n",
      "60 hello\n",
      "61 hello\n",
      "62 hello\n",
      "63 hello\n",
      "64 hello\n",
      "65 hello\n",
      "66 hello\n",
      "67 hello\n",
      "68 hello\n",
      "69 hello\n",
      "70 hello\n",
      "71 hello\n",
      "72 hello\n",
      "73 hello\n",
      "74 hello\n",
      "75 hello\n",
      "76 hello\n",
      "77 hello\n",
      "78 hello\n",
      "79 hello\n",
      "80 hello\n",
      "81 hello\n",
      "82 hello\n",
      "83 hello\n",
      "84 hello\n",
      "85 hello\n",
      "86 hello\n",
      "87 hello\n",
      "88 hello\n",
      "89 hello\n",
      "90 hello\n",
      "91 hello\n",
      "92 hello\n",
      "93 hello\n",
      "94 hello\n",
      "95 hello\n",
      "96 hello\n",
      "97 hello\n",
      "98 hello\n",
      "99 hello\n"
     ]
    }
   ],
   "source": [
    "i = 0\n",
    "def fun():\n",
    "    global i\n",
    "    if i ==100:\n",
    "        return None\n",
    "    print(i,\"hello\")\n",
    "    i+=1\n",
    "    fun()\n",
    "fun()\n",
    "    \n",
    "    "
   ]
  },
  {
   "cell_type": "code",
   "execution_count": 25,
   "id": "9802bf2b-6d05-4f6a-9ed0-339ff9b99b40",
   "metadata": {},
   "outputs": [
    {
     "name": "stdout",
     "output_type": "stream",
     "text": [
      "10\n",
      "20\n",
      "40\n"
     ]
    }
   ],
   "source": [
    "def fun():\n",
    "    \n",
    "    var = 10\n",
    "    yield var\n",
    "    \n",
    "    var +=10\n",
    "    yield var\n",
    "    \n",
    "    var +=20\n",
    "    yield var\n",
    "\n",
    "f = fun()\n",
    "print(next(f))\n",
    "print(next(f))\n",
    "print(next(f))"
   ]
  },
  {
   "cell_type": "code",
   "execution_count": 26,
   "id": "a6e21bdc-7f6f-4a51-8962-c2c4807112a5",
   "metadata": {},
   "outputs": [
    {
     "ename": "TypeError",
     "evalue": "server_login() takes 1 positional argument but 2 were given",
     "output_type": "error",
     "traceback": [
      "\u001b[1;31m---------------------------------------------------------------------------\u001b[0m",
      "\u001b[1;31mTypeError\u001b[0m                                 Traceback (most recent call last)",
      "\u001b[1;32m~\\AppData\\Local\\Temp/ipykernel_1800/733332560.py\u001b[0m in \u001b[0;36m<module>\u001b[1;34m\u001b[0m\n\u001b[0;32m     18\u001b[0m \u001b[1;33m\u001b[0m\u001b[0m\n\u001b[0;32m     19\u001b[0m \u001b[0mmy\u001b[0m \u001b[1;33m=\u001b[0m \u001b[0mMy_Server\u001b[0m\u001b[1;33m(\u001b[0m\u001b[1;34m\"2.2.2.2\"\u001b[0m\u001b[1;33m,\u001b[0m\u001b[1;34m\"123\"\u001b[0m\u001b[1;33m)\u001b[0m\u001b[1;33m\u001b[0m\u001b[1;33m\u001b[0m\u001b[0m\n\u001b[1;32m---> 20\u001b[1;33m \u001b[0mmy\u001b[0m\u001b[1;33m.\u001b[0m\u001b[0mserver_login\u001b[0m\u001b[1;33m(\u001b[0m\u001b[1;34m\"india\"\u001b[0m\u001b[1;33m)\u001b[0m\u001b[1;33m\u001b[0m\u001b[1;33m\u001b[0m\u001b[0m\n\u001b[0m",
      "\u001b[1;31mTypeError\u001b[0m: server_login() takes 1 positional argument but 2 were given"
     ]
    }
   ],
   "source": [
    "class My_Server:\n",
    "    \n",
    "    \n",
    "    def __init__ (self,ip,pwd):\n",
    "        \n",
    "        self.ip = ip\n",
    "        self.pwd = pwd\n",
    "    \n",
    "    def server_login(self,country):\n",
    "        print(\"welcome to python\", self.ip,country)\n",
    "        \n",
    "    def server_login(self):\n",
    "        print(\"welcome to python\", self.ip,country)\n",
    "        \n",
    "    def hostname(self):\n",
    "        print(\"wellcome to oops\",self.ip, self.pwd)\n",
    "    \n",
    "        \n",
    "my = My_Server(\"2.2.2.2\",\"123\")\n",
    "my.server_login(\"india\")\n"
   ]
  },
  {
   "cell_type": "code",
   "execution_count": 27,
   "id": "2aaf9922-b2dc-4056-adbf-38bc497fdaa5",
   "metadata": {},
   "outputs": [
    {
     "name": "stdout",
     "output_type": "stream",
     "text": [
      "welcome to python 2.2.2.2 india\n"
     ]
    }
   ],
   "source": [
    "class My_Server:\n",
    "    \n",
    "    \n",
    "    def __init__ (self,ip,pwd):\n",
    "        \n",
    "        self.ip = ip\n",
    "        self.pwd = pwd\n",
    "    \n",
    "    def server_login(self,country):\n",
    "        print(\"welcome to python\", self.ip,country)\n",
    "        \n",
    "    def server_login(self,country):\n",
    "        print(\"welcome to python\", self.ip,country)\n",
    "        \n",
    "    def hostname(self):\n",
    "        print(\"wellcome to oops\",self.ip, self.pwd)\n",
    "    \n",
    "        \n",
    "my = My_Server(\"2.2.2.2\",\"123\")\n",
    "my.server_login(\"india\")\n"
   ]
  },
  {
   "cell_type": "markdown",
   "id": "9cbb697e-2885-458f-a0ed-60ec75a53c91",
   "metadata": {},
   "source": [
    "# Inheritance"
   ]
  },
  {
   "cell_type": "code",
   "execution_count": 28,
   "id": "87544dba-83d1-4bb7-8d01-3f1dbd7bf3a6",
   "metadata": {},
   "outputs": [
    {
     "name": "stdout",
     "output_type": "stream",
     "text": [
      "welcome to python 2.2.2.2 india\n",
      "welcome to OOPS 2.2.2.2 123\n"
     ]
    }
   ],
   "source": [
    "class My_Server:\n",
    "    \n",
    "    \n",
    "    def __init__ (self,ip,pwd):\n",
    "        \n",
    "        self.ip = ip\n",
    "        self.pwd = pwd\n",
    "    \n",
    "    def server_login(self,country):\n",
    "        print(\"welcome to python\", self.ip,country)\n",
    "        \n",
    "    \n",
    "    def hostname(self):\n",
    "        print(\"wellcome to oops\",self.ip, self.pwd)\n",
    "    \n",
    "class second_class(My_Server):\n",
    "    \n",
    "    def Login(self):\n",
    "        print(\"welcome to OOPS\", self.ip,self.pwd)\n",
    "    \n",
    "    \n",
    "    \n",
    "        \n",
    "my = second_class(\"2.2.2.2\",\"123\")\n",
    "my.server_login(\"india\")\n",
    "my.Login()\n"
   ]
  },
  {
   "cell_type": "code",
   "execution_count": 30,
   "id": "b5b92ceb-4b36-4899-8f12-452dabf0c5b1",
   "metadata": {},
   "outputs": [
    {
     "name": "stdout",
     "output_type": "stream",
     "text": [
      "welcome to python secound class 2.2.2.2 india\n",
      "welcome to OOPS second class 2.2.2.2 123\n"
     ]
    }
   ],
   "source": [
    "class My_Server:\n",
    "    \n",
    "    \n",
    "    def __init__ (self,ip,pwd):\n",
    "        \n",
    "        self.ip = ip\n",
    "        self.pwd = pwd\n",
    "    \n",
    "    def server_login(self,country):\n",
    "        print(\"welcome to python\", self.ip,country)\n",
    "        \n",
    "    \n",
    "    def hostname(self):\n",
    "        print(\"wellcome to oops\",self.ip, self.pwd)\n",
    "    \n",
    "class second_class(My_Server):\n",
    "    \n",
    "    def Login(self):\n",
    "        print(\"welcome to OOPS second class\", self.ip,self.pwd)\n",
    "    \n",
    "    def server_login(self,country):\n",
    "        print(\"welcome to python secound class\", self.ip,country)\n",
    "        \n",
    "    \n",
    "    def hostname(self):\n",
    "        print(\"wellcome to oops secound class\",self.ip, self.pwd)\n",
    "    \n",
    "    \n",
    "    \n",
    "        \n",
    "my = second_class(\"2.2.2.2\",\"123\")\n",
    "my.server_login(\"india\")\n",
    "my.Login()\n"
   ]
  },
  {
   "cell_type": "code",
   "execution_count": 35,
   "id": "ec607949-5e96-40b0-a479-4617dbc869bc",
   "metadata": {},
   "outputs": [
    {
     "name": "stdout",
     "output_type": "stream",
     "text": [
      "welcome to python 2.2.2.2 america\n",
      "welcome to OOPS second class 2.2.2.2 123\n"
     ]
    }
   ],
   "source": [
    "class My_Server:\n",
    "    \n",
    "    \n",
    "    def __init__ (self,ip,pwd,country):\n",
    "        \n",
    "        self.ip = ip\n",
    "        self.pwd = pwd\n",
    "        self.country = country\n",
    "    \n",
    "    def server_login(self,country):\n",
    "        print(\"welcome to python\", self.ip,country)\n",
    "    \n",
    "class second_class(My_Server):\n",
    "    \n",
    "    def __init__(self,ip,pwd):\n",
    "        self.ip = ip\n",
    "        self.pwd = pwd\n",
    "        #My_Server.__init__(self,self.ip,self.pwd,\"india\")\n",
    "        super().__init__(self.ip,self.pwd,\"india\")\n",
    "    \n",
    "    def Login(self):\n",
    "        print(\"welcome to OOPS second class\", self.ip,self.pwd)\n",
    "    \n",
    "    \n",
    "    \n",
    "        \n",
    "my = second_class(\"2.2.2.2\",\"123\")\n",
    "my.server_login(\"america\")\n",
    "my.Login()\n"
   ]
  },
  {
   "cell_type": "code",
   "execution_count": null,
   "id": "4508c228-b4c2-4277-91e1-01c930a36995",
   "metadata": {},
   "outputs": [],
   "source": []
  }
 ],
 "metadata": {
  "kernelspec": {
   "display_name": "Python 3 (ipykernel)",
   "language": "python",
   "name": "python3"
  },
  "language_info": {
   "codemirror_mode": {
    "name": "ipython",
    "version": 3
   },
   "file_extension": ".py",
   "mimetype": "text/x-python",
   "name": "python",
   "nbconvert_exporter": "python",
   "pygments_lexer": "ipython3",
   "version": "3.8.0"
  }
 },
 "nbformat": 4,
 "nbformat_minor": 5
}
