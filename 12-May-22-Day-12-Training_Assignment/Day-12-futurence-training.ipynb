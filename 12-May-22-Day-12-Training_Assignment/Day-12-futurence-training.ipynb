{
 "cells": [
  {
   "cell_type": "code",
   "execution_count": 1,
   "id": "f2d540be-a423-41e3-9007-e60b43b518b6",
   "metadata": {},
   "outputs": [
    {
     "name": "stdout",
     "output_type": "stream",
     "text": [
      "<class 'list'>\n"
     ]
    }
   ],
   "source": [
    "var = list()\n",
    "print(type(var))"
   ]
  },
  {
   "cell_type": "code",
   "execution_count": 3,
   "id": "0dcb5037-c912-41c0-b58a-add427d54cf5",
   "metadata": {},
   "outputs": [
    {
     "name": "stdout",
     "output_type": "stream",
     "text": [
      "['dhoni', 'rohit']\n"
     ]
    }
   ],
   "source": [
    "var = [\"dhoni\",\"kohli\"]\n",
    "var[1] = \"rohit\"\n",
    "print(var)"
   ]
  },
  {
   "cell_type": "code",
   "execution_count": 4,
   "id": "55069a22-5782-4e2a-a16f-7ba288202793",
   "metadata": {},
   "outputs": [
    {
     "name": "stdout",
     "output_type": "stream",
     "text": [
      "['dhoni', 'kohli']\n"
     ]
    }
   ],
   "source": [
    "var = [\"dhoni\"]\n",
    "var1 = [\"kohli\"]\n",
    "print(var+var1)"
   ]
  },
  {
   "cell_type": "code",
   "execution_count": 5,
   "id": "ed533e56-8fdd-46a7-9e72-924fff2c230c",
   "metadata": {},
   "outputs": [
    {
     "data": {
      "text/plain": [
       "['dhoni', 'kohli', 'rohit']"
      ]
     },
     "execution_count": 5,
     "metadata": {},
     "output_type": "execute_result"
    }
   ],
   "source": [
    "var = [\"dhoni\",\"kohli\"]\n",
    "var.insert(5,\"rohit\")\n",
    "var"
   ]
  },
  {
   "cell_type": "code",
   "execution_count": 6,
   "id": "bb4b61d1-0ae9-4388-ab6a-796e6bb9e5cf",
   "metadata": {},
   "outputs": [
    {
     "data": {
      "text/plain": [
       "['dhoni', 'kohli', 'rohit']"
      ]
     },
     "execution_count": 6,
     "metadata": {},
     "output_type": "execute_result"
    }
   ],
   "source": [
    "var = [\"dhoni\",\"kohli\"]\n",
    "var.append(\"rohit\")\n",
    "var"
   ]
  },
  {
   "cell_type": "code",
   "execution_count": 7,
   "id": "8258cbe6-3540-41e8-acb7-ba7537d454c8",
   "metadata": {},
   "outputs": [],
   "source": [
    "import collections"
   ]
  },
  {
   "cell_type": "code",
   "execution_count": 8,
   "id": "bd95634a-3b92-4b8a-b6ff-b96b35857c2d",
   "metadata": {},
   "outputs": [
    {
     "name": "stdout",
     "output_type": "stream",
     "text": [
      "The deque after appending at right is : \n",
      "deque([1, 2, 3, 4])\n",
      "The deque after appending at left is : \n",
      "deque([6, 1, 2, 3, 4])\n"
     ]
    }
   ],
   "source": [
    "# Python code to demonstrate working of\n",
    "# append(), appendleft()\n",
    "\t\n",
    "\n",
    "from collections import deque\n",
    "\t\n",
    "# initializing deque\n",
    "de = deque([1,2,3])\n",
    "\t\n",
    "# using append() to insert element at right end\n",
    "# inserts 4 at the end of deque\n",
    "de.append(4)\n",
    "\t\n",
    "# printing modified deque\n",
    "print (\"The deque after appending at right is : \")\n",
    "print (de)\n",
    "\t\n",
    "# using appendleft() to insert element at right end\n",
    "# inserts 6 at the beginning of deque\n",
    "de.appendleft(6)\n",
    "\t\n",
    "# printing modified deque\n",
    "print (\"The deque after appending at left is : \")\n",
    "print (de)\n"
   ]
  },
  {
   "cell_type": "code",
   "execution_count": 9,
   "id": "d25a936b-99cc-4780-a772-c95f34519de6",
   "metadata": {},
   "outputs": [
    {
     "name": "stdout",
     "output_type": "stream",
     "text": [
      "The deque after deleting from right is : \n",
      "deque([6, 1, 2, 3])\n",
      "The deque after deleting from left is : \n",
      "deque([1, 2, 3])\n"
     ]
    }
   ],
   "source": [
    "# Python code to demonstrate working of\n",
    "# pop(), and popleft()\n",
    "\n",
    "from collections import deque\n",
    "\n",
    "# initializing deque\n",
    "de = deque([6, 1, 2, 3, 4])\n",
    "\n",
    "# using pop() to delete element from right end\n",
    "# deletes 4 from the right end of deque\n",
    "de.pop()\n",
    "\t\n",
    "# printing modified deque\n",
    "print (\"The deque after deleting from right is : \")\n",
    "print (de)\n",
    "\t\n",
    "# using popleft() to delete element from left end\n",
    "# deletes 6 from the left end of deque\n",
    "de.popleft()\n",
    "\t\n",
    "# printing modified deque\n",
    "print (\"The deque after deleting from left is : \")\n",
    "print (de)\n"
   ]
  },
  {
   "cell_type": "raw",
   "id": "3ba6ffff-4bae-463e-bbe5-0f7f967c5f6b",
   "metadata": {},
   "source": []
  },
  {
   "cell_type": "code",
   "execution_count": 10,
   "id": "7bbbbd3a-d297-4c1d-b408-08554169e565",
   "metadata": {},
   "outputs": [
    {
     "name": "stdout",
     "output_type": "stream",
     "text": [
      "['dhoni', 'kohli', 'aswin', 'aswin', 'arun', '3', '4', '9']\n"
     ]
    }
   ],
   "source": [
    "var = [\"dhoni\",\"kohli\",\"3\",\"4\",\"9\",\"aswin\",\"aswin\",\"arun\"]\n",
    "output = sorted(var, reverse = True, key = len)\n",
    "print(output)"
   ]
  },
  {
   "cell_type": "code",
   "execution_count": 23,
   "id": "d6f74cc6-a0bb-4889-94c0-b1a342408e0d",
   "metadata": {},
   "outputs": [],
   "source": [
    "var = [\"dhoni\",\"kohli\",3,4,9,\"aswin\",\"basket\",\"elsia\"]\n",
    "var_copy = var[:]"
   ]
  },
  {
   "cell_type": "code",
   "execution_count": 24,
   "id": "4b52bf55-102f-49b2-bc97-7ca2e9a70cd2",
   "metadata": {},
   "outputs": [
    {
     "data": {
      "text/plain": [
       "['dhoni', 'kohli', 'aswin', 'basket', 'elsia']"
      ]
     },
     "execution_count": 24,
     "metadata": {},
     "output_type": "execute_result"
    }
   ],
   "source": [
    "var_num = []\n",
    "\n",
    "for val in var:\n",
    "    if str(val).isnumeric():\n",
    "        var_num.append(val)\n",
    "        var_copy.remove(val)\n",
    "\n",
    "var_copy"
   ]
  },
  {
   "cell_type": "code",
   "execution_count": 25,
   "id": "3c9d25bd-293a-4b91-8bd1-fa5afe6c8ed5",
   "metadata": {},
   "outputs": [
    {
     "data": {
      "text/plain": [
       "[3, 4, 9]"
      ]
     },
     "execution_count": 25,
     "metadata": {},
     "output_type": "execute_result"
    }
   ],
   "source": [
    "var_num"
   ]
  },
  {
   "cell_type": "code",
   "execution_count": null,
   "id": "b743fff7-f3d8-4970-bb1d-0cd5937329eb",
   "metadata": {},
   "outputs": [],
   "source": []
  },
  {
   "cell_type": "code",
   "execution_count": 26,
   "id": "df22c627-13ab-4b3c-b550-6f4c9695998f",
   "metadata": {},
   "outputs": [
    {
     "data": {
      "text/plain": [
       "['ilhok', 'aisle', 'inohd', 'teksab', 'niwsa']"
      ]
     },
     "execution_count": 26,
     "metadata": {},
     "output_type": "execute_result"
    }
   ],
   "source": [
    "output = sorted(var_copy, reverse = True)\n",
    "output_num = sorted(var_num,reverse = True)\n",
    "var1 = list()\n",
    "\n",
    "\n",
    "for val in output:   \n",
    "  \n",
    "    st = val[::-1]\n",
    "    var1.append(st)\n",
    "\n",
    "var1"
   ]
  },
  {
   "cell_type": "code",
   "execution_count": 29,
   "id": "28279dc6-debb-4a0b-af4e-d77b2bea036a",
   "metadata": {},
   "outputs": [
    {
     "data": {
      "text/plain": [
       "[9, 4, 3, 'ilhok', 'aisle', 'inohd', 'teksab', 'niwsa']"
      ]
     },
     "execution_count": 29,
     "metadata": {},
     "output_type": "execute_result"
    }
   ],
   "source": [
    "output_num + var1"
   ]
  },
  {
   "cell_type": "code",
   "execution_count": 32,
   "id": "343fc506-32da-48c4-943e-2149373ed879",
   "metadata": {},
   "outputs": [
    {
     "data": {
      "text/plain": [
       "[3, 4, 9, 'aisle', 'ilhok', 'inohd', 'niwsa', 'teksab']"
      ]
     },
     "execution_count": 32,
     "metadata": {},
     "output_type": "execute_result"
    }
   ],
   "source": [
    "var = [\"dhoni\",\"kohli\",3,4,9,\"aswin\",\"basket\",\"elsia\",(\"a\",\"b\")]\n",
    "var = sorted([i for i in var if type(i)==int]) + sorted([ val[::-1] for val in var if type(val)==str])\n",
    "var"
   ]
  },
  {
   "cell_type": "code",
   "execution_count": 33,
   "id": "6f82fc9a-af1b-41da-a7eb-0e0ae6052626",
   "metadata": {},
   "outputs": [],
   "source": [
    "import sys"
   ]
  },
  {
   "cell_type": "code",
   "execution_count": 34,
   "id": "29f7417d-ff1b-4499-aaac-762b5dd60a52",
   "metadata": {},
   "outputs": [
    {
     "name": "stdout",
     "output_type": "stream",
     "text": [
      "('dhoni', 'kohli')\n",
      "<class 'tuple'>\n",
      "56\n"
     ]
    }
   ],
   "source": [
    "var = (\"dhoni\",\"kohli\")\n",
    "print(var)\n",
    "print(type(var))\n",
    "print(sys.getsizeof(var))"
   ]
  },
  {
   "cell_type": "code",
   "execution_count": 35,
   "id": "9cd43674-e320-477c-a15b-679e6d1ae9b3",
   "metadata": {},
   "outputs": [
    {
     "name": "stdout",
     "output_type": "stream",
     "text": [
      "['dhoni', 'kohli']\n",
      "<class 'list'>\n",
      "72\n"
     ]
    }
   ],
   "source": [
    "var  = [\"dhoni\",\"kohli\"]\n",
    "print(var)\n",
    "print(type(var))\n",
    "print(sys.getsizeof(var))"
   ]
  },
  {
   "cell_type": "code",
   "execution_count": 40,
   "id": "8ee9b172-f8c9-46e9-8cf4-4eafc7fe939c",
   "metadata": {},
   "outputs": [
    {
     "name": "stdout",
     "output_type": "stream",
     "text": [
      "{'status': 'OK', 'results': [{'address_components': [{'long_name': 'Rajpath', 'types': ['route'], 'short_name': 'Rajpath'}, {'long_name': 'India Gate', 'types': ['political', 'sublocality', 'sublocality_level_1'], 'short_name': 'India Gate'}, {'long_name': 'New Delhi', 'types': ['locality', 'political'], 'short_name': 'New Delhi'}, {'long_name': 'New Delhi', 'types': ['administrative_area_level_2', 'political'], 'short_name': 'New Delhi'}, {'long_name': 'Delhi', 'types': ['administrative_area_level_1', 'political'], 'short_name': 'DL'}, {'long_name': 'India', 'types': ['country', 'political'], 'short_name': 'IN'}, {'long_name': '110001', 'types': ['postal_code'], 'short_name': '110001'}], 'geometry': {'location': {'lng': 77.2295097, 'lat': 28.612912}, 'viewport': {'northeast': {'lng': 77.2308586802915, 'lat': 28.6142609802915}, 'southwest': {'lng': 77.22816071970848, 'lat': 28.6115630197085}}, 'location_type': 'APPROXIMATE'}, 'types': ['establishment', 'point_of_interest'], 'formatted_address': 'Rajpath, India Gate, New Delhi, Delhi 110001,India', 'place_id': 'ChIJC03rqdriDDkRXT6SJRGXFwc'}]}\n"
     ]
    }
   ],
   "source": [
    "data = {'status': 'OK', 'results': [{'address_components': [{'long_name': 'Rajpath', 'types': ['route'], \n",
    "'short_name': 'Rajpath'}, {'long_name': 'India Gate', 'types': ['political', 'sublocality', \n",
    "'sublocality_level_1'], 'short_name': 'India Gate'}, {'long_name': 'New Delhi', 'types': \n",
    "['locality', 'political'], 'short_name': 'New Delhi'}, {'long_name': 'New Delhi', \n",
    "'types': ['administrative_area_level_2', 'political'], 'short_name': 'New Delhi'}, {'long_name': \n",
    "'Delhi', 'types': ['administrative_area_level_1', 'political'], 'short_name': 'DL'}, {'long_name': \n",
    "'India', 'types': ['country', 'political'], 'short_name': 'IN'}, {'long_name': '110001', 'types': \n",
    "['postal_code'], 'short_name': '110001'}], 'geometry': {'location': {'lng': 77.2295097, 'lat': 28.612912}, \n",
    "'viewport': {'northeast': {'lng': 77.2308586802915, 'lat': 28.6142609802915}, 'southwest': {'lng': \n",
    "77.22816071970848, 'lat': 28.6115630197085}}, 'location_type': 'APPROXIMATE'}, 'types': \n",
    "['establishment', 'point_of_interest'], 'formatted_address': 'Rajpath, India Gate, New Delhi, Delhi 110001,India', 'place_id': 'ChIJC03rqdriDDkRXT6SJRGXFwc'}]}\n",
    "\n",
    "# printing json response\n",
    "print(data)\n"
   ]
  },
  {
   "cell_type": "code",
   "execution_count": 41,
   "id": "a09023d9-2971-41b2-81b9-2308e01a5942",
   "metadata": {},
   "outputs": [],
   "source": [
    "from pprint import pprint"
   ]
  },
  {
   "cell_type": "code",
   "execution_count": 42,
   "id": "574f9df8-b76b-4edf-a24d-cd4967c40ac6",
   "metadata": {},
   "outputs": [
    {
     "name": "stdout",
     "output_type": "stream",
     "text": [
      "{'results': [{'address_components': [{'long_name': 'Rajpath',\n",
      "                                      'short_name': 'Rajpath',\n",
      "                                      'types': ['route']},\n",
      "                                     {'long_name': 'India Gate',\n",
      "                                      'short_name': 'India Gate',\n",
      "                                      'types': ['political',\n",
      "                                                'sublocality',\n",
      "                                                'sublocality_level_1']},\n",
      "                                     {'long_name': 'New Delhi',\n",
      "                                      'short_name': 'New Delhi',\n",
      "                                      'types': ['locality', 'political']},\n",
      "                                     {'long_name': 'New Delhi',\n",
      "                                      'short_name': 'New Delhi',\n",
      "                                      'types': ['administrative_area_level_2',\n",
      "                                                'political']},\n",
      "                                     {'long_name': 'Delhi',\n",
      "                                      'short_name': 'DL',\n",
      "                                      'types': ['administrative_area_level_1',\n",
      "                                                'political']},\n",
      "                                     {'long_name': 'India',\n",
      "                                      'short_name': 'IN',\n",
      "                                      'types': ['country', 'political']},\n",
      "                                     {'long_name': '110001',\n",
      "                                      'short_name': '110001',\n",
      "                                      'types': ['postal_code']}],\n",
      "              'formatted_address': 'Rajpath, India Gate, New Delhi, Delhi '\n",
      "                                   '110001,India',\n",
      "              'geometry': {'location': {'lat': 28.612912, 'lng': 77.2295097},\n",
      "                           'location_type': 'APPROXIMATE',\n",
      "                           'viewport': {'northeast': {'lat': 28.6142609802915,\n",
      "                                                      'lng': 77.2308586802915},\n",
      "                                        'southwest': {'lat': 28.6115630197085,\n",
      "                                                      'lng': 77.22816071970848}}},\n",
      "              'place_id': 'ChIJC03rqdriDDkRXT6SJRGXFwc',\n",
      "              'types': ['establishment', 'point_of_interest']}],\n",
      " 'status': 'OK'}\n"
     ]
    }
   ],
   "source": [
    "pprint(data)"
   ]
  },
  {
   "cell_type": "code",
   "execution_count": 43,
   "id": "29298ecf-6229-4d67-8e88-deb70fae086a",
   "metadata": {},
   "outputs": [
    {
     "name": "stdout",
     "output_type": "stream",
     "text": [
      "\u001b[31msome red text\n",
      "\u001b[42mand with a green background\n",
      "\u001b[2mand in dim text\n",
      "\u001b[0m\n",
      "back to normal now\n"
     ]
    }
   ],
   "source": [
    "# Python program to print\n",
    "# red text with green background\n",
    "\n",
    "from colorama import Fore, Back, Style\n",
    "print(Fore.RED + 'some red text')\n",
    "print(Back.GREEN + 'and with a green background')\n",
    "print(Style.DIM + 'and in dim text')\n",
    "print(Style.RESET_ALL)\n",
    "print('back to normal now')\n"
   ]
  },
  {
   "cell_type": "code",
   "execution_count": 44,
   "id": "1225cd4e-7ef3-43b6-a6bd-dfb6242ce753",
   "metadata": {},
   "outputs": [],
   "source": [
    "# empty dictionary\n",
    "my_dict = {}\n",
    "\n",
    "# dictionary with integer keys\n",
    "my_dict = {1: 'apple', 2: 'ball'}\n",
    "\n",
    "# dictionary with mixed keys\n",
    "my_dict = {'name': 'John', 1: [2, 4, 3]}\n",
    "\n",
    "# using dict()\n",
    "my_dict = dict({1:'apple', 2:'ball'})\n",
    "\n",
    "# from sequence having each item as a pair\n",
    "my_dict = dict([(1,'apple'), (2,'ball')])"
   ]
  },
  {
   "cell_type": "code",
   "execution_count": 45,
   "id": "86f57db6-794a-4970-9ddc-383ea29b1af3",
   "metadata": {},
   "outputs": [
    {
     "name": "stdout",
     "output_type": "stream",
     "text": [
      "Jack\n",
      "26\n",
      "None\n"
     ]
    },
    {
     "ename": "KeyError",
     "evalue": "'address'",
     "output_type": "error",
     "traceback": [
      "\u001b[1;31m---------------------------------------------------------------------------\u001b[0m",
      "\u001b[1;31mKeyError\u001b[0m                                  Traceback (most recent call last)",
      "\u001b[1;32m~\\AppData\\Local\\Temp/ipykernel_11036/2429790587.py\u001b[0m in \u001b[0;36m<module>\u001b[1;34m\u001b[0m\n\u001b[0;32m     13\u001b[0m \u001b[1;33m\u001b[0m\u001b[0m\n\u001b[0;32m     14\u001b[0m \u001b[1;31m# KeyError\u001b[0m\u001b[1;33m\u001b[0m\u001b[1;33m\u001b[0m\u001b[1;33m\u001b[0m\u001b[0m\n\u001b[1;32m---> 15\u001b[1;33m \u001b[0mprint\u001b[0m\u001b[1;33m(\u001b[0m\u001b[0mmy_dict\u001b[0m\u001b[1;33m[\u001b[0m\u001b[1;34m'address'\u001b[0m\u001b[1;33m]\u001b[0m\u001b[1;33m)\u001b[0m\u001b[1;33m\u001b[0m\u001b[1;33m\u001b[0m\u001b[0m\n\u001b[0m",
      "\u001b[1;31mKeyError\u001b[0m: 'address'"
     ]
    }
   ],
   "source": [
    "# get vs [] for retrieving elements\n",
    "my_dict = {'name': 'Jack', 'age': 26}\n",
    "\n",
    "# Output: Jack\n",
    "print(my_dict['name'])\n",
    "\n",
    "# Output: 26\n",
    "print(my_dict.get('age'))\n",
    "\n",
    "# Trying to access keys which doesn't exist throws error\n",
    "# Output None\n",
    "print(my_dict.get('address'))\n",
    "\n",
    "# KeyError\n",
    "print(my_dict['address'])"
   ]
  },
  {
   "cell_type": "code",
   "execution_count": 46,
   "id": "06341575-f2fb-49c0-ae87-eeb36d786f5c",
   "metadata": {},
   "outputs": [
    {
     "name": "stdout",
     "output_type": "stream",
     "text": [
      "{'name': 'Jack', 'age': 27}\n",
      "{'name': 'Jack', 'age': 27, 'address': 'Downtown'}\n"
     ]
    }
   ],
   "source": [
    "# Changing and adding Dictionary Elements\n",
    "my_dict = {'name': 'Jack', 'age': 26}\n",
    "\n",
    "# update value\n",
    "my_dict['age'] = 27\n",
    "\n",
    "#Output: {'age': 27, 'name': 'Jack'}\n",
    "print(my_dict)\n",
    "\n",
    "# add item\n",
    "my_dict['address'] = 'Downtown'\n",
    "\n",
    "# Output: {'address': 'Downtown', 'age': 27, 'name': 'Jack'}\n",
    "print(my_dict)"
   ]
  },
  {
   "cell_type": "code",
   "execution_count": 47,
   "id": "80c25c0a-6b35-4e40-ba2d-00aef5c3f12e",
   "metadata": {},
   "outputs": [
    {
     "name": "stdout",
     "output_type": "stream",
     "text": [
      "16\n",
      "{1: 1, 2: 4, 3: 9, 5: 25}\n",
      "(5, 25)\n",
      "{1: 1, 2: 4, 3: 9}\n",
      "{}\n"
     ]
    },
    {
     "ename": "NameError",
     "evalue": "name 'squares' is not defined",
     "output_type": "error",
     "traceback": [
      "\u001b[1;31m---------------------------------------------------------------------------\u001b[0m",
      "\u001b[1;31mNameError\u001b[0m                                 Traceback (most recent call last)",
      "\u001b[1;32m~\\AppData\\Local\\Temp/ipykernel_11036/1968832105.py\u001b[0m in \u001b[0;36m<module>\u001b[1;34m\u001b[0m\n\u001b[0;32m     28\u001b[0m \u001b[1;33m\u001b[0m\u001b[0m\n\u001b[0;32m     29\u001b[0m \u001b[1;31m# Throws Error\u001b[0m\u001b[1;33m\u001b[0m\u001b[1;33m\u001b[0m\u001b[1;33m\u001b[0m\u001b[0m\n\u001b[1;32m---> 30\u001b[1;33m \u001b[0mprint\u001b[0m\u001b[1;33m(\u001b[0m\u001b[0msquares\u001b[0m\u001b[1;33m)\u001b[0m\u001b[1;33m\u001b[0m\u001b[1;33m\u001b[0m\u001b[0m\n\u001b[0m",
      "\u001b[1;31mNameError\u001b[0m: name 'squares' is not defined"
     ]
    }
   ],
   "source": [
    "# Removing elements from a dictionary\n",
    "\n",
    "# create a dictionary\n",
    "squares = {1: 1, 2: 4, 3: 9, 4: 16, 5: 25}\n",
    "\n",
    "# remove a particular item, returns its value\n",
    "# Output: 16\n",
    "print(squares.pop(4))\n",
    "\n",
    "# Output: {1: 1, 2: 4, 3: 9, 5: 25}\n",
    "print(squares)\n",
    "\n",
    "# remove an arbitrary item, return (key,value)\n",
    "# Output: (5, 25)\n",
    "print(squares.popitem())\n",
    "\n",
    "# Output: {1: 1, 2: 4, 3: 9}\n",
    "print(squares)\n",
    "\n",
    "# remove all items\n",
    "squares.clear()\n",
    "\n",
    "# Output: {}\n",
    "print(squares)\n",
    "\n",
    "# delete the dictionary itself\n",
    "del squares\n",
    "\n",
    "# Throws Error\n",
    "print(squares)"
   ]
  },
  {
   "cell_type": "code",
   "execution_count": 48,
   "id": "fafb36d2-52be-4145-b45f-02c87d66aa3b",
   "metadata": {},
   "outputs": [
    {
     "name": "stdout",
     "output_type": "stream",
     "text": [
      "{'Math': 0, 'English': 0, 'Science': 0}\n",
      "('Math', 0)\n",
      "('English', 0)\n",
      "('Science', 0)\n",
      "['English', 'Math', 'Science']\n"
     ]
    }
   ],
   "source": [
    "# Dictionary Methods\n",
    "marks = {}.fromkeys(['Math', 'English', 'Science'], 0)\n",
    "\n",
    "# Output: {'English': 0, 'Math': 0, 'Science': 0}\n",
    "print(marks)\n",
    "\n",
    "for item in marks.items():\n",
    "    print(item)\n",
    "\n",
    "# Output: ['English', 'Math', 'Science']\n",
    "print(list(sorted(marks.keys())))"
   ]
  },
  {
   "cell_type": "code",
   "execution_count": 49,
   "id": "1eadfe7f-15d9-46a6-a633-471a2b88d1ce",
   "metadata": {},
   "outputs": [
    {
     "name": "stdout",
     "output_type": "stream",
     "text": [
      "{0: 0, 1: 1, 2: 4, 3: 9, 4: 16, 5: 25}\n"
     ]
    }
   ],
   "source": [
    "# Dictionary Comprehension\n",
    "squares = {x: x*x for x in range(6)}\n",
    "\n",
    "print(squares)"
   ]
  },
  {
   "cell_type": "code",
   "execution_count": 50,
   "id": "f2923efc-3525-4808-988e-ef4307c2bd8f",
   "metadata": {},
   "outputs": [
    {
     "name": "stdout",
     "output_type": "stream",
     "text": [
      "{0: 0, 1: 1, 2: 4, 3: 9, 4: 16, 5: 25}\n"
     ]
    }
   ],
   "source": [
    "squares = {}\n",
    "for x in range(6):\n",
    "    squares[x] = x*x\n",
    "print(squares)"
   ]
  },
  {
   "cell_type": "code",
   "execution_count": 51,
   "id": "f2162fb6-895a-4c22-b6e3-ed32ad5c8f09",
   "metadata": {},
   "outputs": [
    {
     "name": "stdout",
     "output_type": "stream",
     "text": [
      "{1: 1, 3: 9, 5: 25, 7: 49, 9: 81}\n"
     ]
    }
   ],
   "source": [
    "# Dictionary Comprehension with if conditional\n",
    "odd_squares = {x: x*x for x in range(11) if x % 2 == 1}\n",
    "\n",
    "print(odd_squares)"
   ]
  },
  {
   "cell_type": "code",
   "execution_count": 52,
   "id": "5b8c234f-5131-4f9f-998e-b36c84744b0b",
   "metadata": {},
   "outputs": [
    {
     "name": "stdout",
     "output_type": "stream",
     "text": [
      "True\n",
      "True\n",
      "False\n"
     ]
    }
   ],
   "source": [
    "# Membership Test for Dictionary Keys\n",
    "squares = {1: 1, 3: 9, 5: 25, 7: 49, 9: 81}\n",
    "\n",
    "# Output: True\n",
    "print(1 in squares)\n",
    "\n",
    "# Output: True\n",
    "print(2 not in squares)\n",
    "\n",
    "# membership tests for key only not value\n",
    "# Output: False\n",
    "print(49 in squares)"
   ]
  },
  {
   "cell_type": "code",
   "execution_count": 53,
   "id": "6b4c80bf-7679-477b-838c-23cf3341e4fc",
   "metadata": {},
   "outputs": [
    {
     "name": "stdout",
     "output_type": "stream",
     "text": [
      "1\n",
      "9\n",
      "25\n",
      "49\n",
      "81\n"
     ]
    }
   ],
   "source": [
    "# Iterating through a Dictionary\n",
    "squares = {1: 1, 3: 9, 5: 25, 7: 49, 9: 81}\n",
    "for i in squares:\n",
    "    print(squares[i])"
   ]
  },
  {
   "cell_type": "code",
   "execution_count": 54,
   "id": "15a3d553-eb57-4c12-9c92-ef94ec0d0127",
   "metadata": {},
   "outputs": [
    {
     "name": "stdout",
     "output_type": "stream",
     "text": [
      "False\n",
      "True\n",
      "6\n",
      "[0, 1, 3, 5, 7, 9]\n"
     ]
    }
   ],
   "source": [
    "# Dictionary Built-in Functions\n",
    "squares = {0: 0, 1: 1, 3: 9, 5: 25, 7: 49, 9: 81}\n",
    "\n",
    "# Output: False\n",
    "print(all(squares))\n",
    "\n",
    "# Output: True\n",
    "print(any(squares))\n",
    "\n",
    "# Output: 6\n",
    "print(len(squares))\n",
    "\n",
    "# Output: [0, 1, 3, 5, 7, 9]\n",
    "print(sorted(squares))"
   ]
  },
  {
   "cell_type": "code",
   "execution_count": 56,
   "id": "bb5e813d-2744-4fe6-9f33-6a7cd9ec5299",
   "metadata": {},
   "outputs": [
    {
     "name": "stdout",
     "output_type": "stream",
     "text": [
      "<list_iterator object at 0x000001D11122F0A0>\n"
     ]
    }
   ],
   "source": [
    "var = [1,\"a\",2,\"b\",3,\"c\"]\n",
    "var_iter = iter(var)\n",
    "print(var_iter)"
   ]
  },
  {
   "cell_type": "code",
   "execution_count": 57,
   "id": "141b7a41-27b1-441c-a3a5-dab0911824d8",
   "metadata": {},
   "outputs": [
    {
     "name": "stdout",
     "output_type": "stream",
     "text": [
      "{1: 'a', 2: 'b', 3: 'c'}\n"
     ]
    }
   ],
   "source": [
    "var_zip = dict(zip(var_iter,var_iter))\n",
    "print(var_zip)"
   ]
  },
  {
   "cell_type": "code",
   "execution_count": 66,
   "id": "d8755ef1-8a06-446a-89a9-03abdb85fdf2",
   "metadata": {},
   "outputs": [
    {
     "data": {
      "text/plain": [
       "<list_iterator at 0x1d11148a4f0>"
      ]
     },
     "execution_count": 66,
     "metadata": {},
     "output_type": "execute_result"
    }
   ],
   "source": [
    "var = [1,\"a\",2,\"b\",3,\"c\"]\n",
    "var_iter = iter(var)\n",
    "var_iter\n"
   ]
  },
  {
   "cell_type": "code",
   "execution_count": 67,
   "id": "5c1c9800-eaf9-4836-ab53-f1476341161e",
   "metadata": {},
   "outputs": [
    {
     "name": "stdout",
     "output_type": "stream",
     "text": [
      "{1: 'a', 2: 'b', 3: 'c'}\n"
     ]
    }
   ],
   "source": [
    "var_zip = dict(zip(var_iter,var_iter))\n",
    "print(var_zip)"
   ]
  },
  {
   "cell_type": "code",
   "execution_count": 68,
   "id": "24237352-8d49-4b25-a9e9-c005ce5a5355",
   "metadata": {},
   "outputs": [],
   "source": [
    "import sqlite3"
   ]
  },
  {
   "cell_type": "code",
   "execution_count": 69,
   "id": "0a995111-06d9-4df2-b4cb-d48c8ac2d692",
   "metadata": {},
   "outputs": [],
   "source": [
    "def My_DB_Execution():\n",
    "    connection = sqlite3.connect(\"python.db\")\n",
    "    query = \"\"\" create table Student1 (\"name\" text, \"age\" int)\"\"\"\n",
    "    execution = connection.execute(query)\n",
    "    connection.commit()\n",
    "    connection.close()\n",
    "My_DB_Execution()"
   ]
  },
  {
   "cell_type": "code",
   "execution_count": 70,
   "id": "014cd4a6-02bb-4352-a023-86ec8965d5e0",
   "metadata": {},
   "outputs": [],
   "source": [
    "def My_DB_Execution(table_name,db):#function with argument\n",
    "    connection = sqlite3.connect(db)\n",
    "    query = f\"\"\" create table {table_name} (\"name\" text, \"age\" int)\"\"\"\n",
    "    execution = connection.execute(query)\n",
    "    connection.commit()\n",
    "    connection.close()\n",
    "My_DB_Execution(\"sports\",\"testing.db\")"
   ]
  },
  {
   "cell_type": "code",
   "execution_count": 72,
   "id": "f44eed40-b40f-4cb6-aab5-a2664ab5cbad",
   "metadata": {},
   "outputs": [],
   "source": [
    "def My_DB_Execution(table_name,db = \"testing.db\"):#function with  default argument\n",
    "    connection = sqlite3.connect(db)\n",
    "    query = f\"\"\" create table {table_name} (\"name\" text, \"age\" int)\"\"\"\n",
    "    execution = connection.execute(query)\n",
    "    connection.commit()\n",
    "    connection.close()\n",
    "My_DB_Execution(\"teacher\",\"testing.db\")"
   ]
  },
  {
   "cell_type": "code",
   "execution_count": 76,
   "id": "4272bda3-cd01-4dc2-bf0d-aa6c4c801ab9",
   "metadata": {},
   "outputs": [
    {
     "name": "stdout",
     "output_type": "stream",
     "text": [
      "{'val': 6, 'string': 'pankaj'}\n"
     ]
    }
   ],
   "source": [
    "def fun(**d):\n",
    "    print(d)\n",
    "fun(val=6,string=\"pankaj\")"
   ]
  },
  {
   "cell_type": "code",
   "execution_count": 81,
   "id": "8c5ebad4-2502-47fc-8aa7-3261ffe8eabe",
   "metadata": {},
   "outputs": [
    {
     "name": "stdout",
     "output_type": "stream",
     "text": [
      "([1, 2, 3, 4],)\n"
     ]
    }
   ],
   "source": [
    "def fun(val,*d):\n",
    "    print(d)\n",
    "fun(6,[1,2,3,4])"
   ]
  },
  {
   "cell_type": "code",
   "execution_count": 93,
   "id": "56f55996-e0d9-41b7-820c-56d4c7592020",
   "metadata": {},
   "outputs": [
    {
     "name": "stdout",
     "output_type": "stream",
     "text": [
      "id int, age int, name text\n",
      " create table student (id int, age int, name text)\n"
     ]
    }
   ],
   "source": [
    "def My_DB_Execution(table_name,db = \"testing.db\",*column_names):#function with  default argument\n",
    "    \n",
    "    table_str = \"\"\n",
    "    for val in column_names:\n",
    "        table_str += val[0] +  \" \"  + val[1] + \", \"\n",
    "    \n",
    "    table_str = table_str[:-2]\n",
    "    \n",
    "    print(table_str)\n",
    "    connection = sqlite3.connect(db)\n",
    "    query = f\"\"\" create table {table_name} ({table_str})\"\"\"\n",
    "    print(query)\n",
    "    execution = connection.execute(query)\n",
    "    connection.commit()\n",
    "    connection.close()\n",
    "    \n",
    "My_DB_Execution(\"student\",\"testing.db\",(\"id\",\"int\"),(\"age\",\"int\"),(\"name\",\"text\"))"
   ]
  },
  {
   "cell_type": "code",
   "execution_count": null,
   "id": "26bed7c2-b7ee-4f56-b777-d120fd37997f",
   "metadata": {},
   "outputs": [],
   "source": [
    "def My_DB_Execution(table_name,db = \"testing.db\"):#function with  default argument\n",
    "    \n",
    "  \n",
    "    connection = sqlite3.connect(db)\n",
    "    #query = f\"\"\" create table {table_name} ({table_str})\"\"\"\n",
    "    query = f\"\"\" select * from {table_name}\"\"\"\n",
    "    print(query)\n",
    "    execution = connection.execute(query)\n",
    "    for i in execution:\n",
    "        print(i)\n",
    "    connection.commit()\n",
    "    connection.close()\n",
    "    \n",
    "My_DB_Execution(\"student\",\"testing.db\")"
   ]
  },
  {
   "cell_type": "code",
   "execution_count": 98,
   "id": "1320f68c-d157-4d67-9b21-00976103e9c3",
   "metadata": {},
   "outputs": [
    {
     "name": "stdout",
     "output_type": "stream",
     "text": [
      " select * from student\n"
     ]
    }
   ],
   "source": [
    "def My_DB_Execution(table_name,db = \"testing.db\"):#function with  default argument\n",
    "    \n",
    "  \n",
    "    connection = sqlite3.connect(db)\n",
    "    #query = f\"\"\" create table {table_name} ({table_str})\"\"\"\n",
    "    query = f\"\"\" select * from {table_name}\"\"\"\n",
    "    print(query)\n",
    "    execution = connection.execute(query)\n",
    "    for i in execution:\n",
    "        print(i)\n",
    "    connection.commit()\n",
    "    connection.close()\n",
    "    \n",
    "My_DB_Execution(\"student\",\"testing.db\")"
   ]
  },
  {
   "cell_type": "code",
   "execution_count": 131,
   "id": "0a697a29-20f5-4210-90d3-3f607377e24e",
   "metadata": {},
   "outputs": [
    {
     "name": "stdout",
     "output_type": "stream",
     "text": [
      "name text, age int\n",
      " create table family (name text, age int)\n"
     ]
    }
   ],
   "source": [
    "def My_DB_Execution(table_name,db = \"testing.db\",*column_names):#function with  default argument\n",
    "    \n",
    "    table_str = \"\"\n",
    "    for val in column_names:\n",
    "        col, data = val.split(\" \")\n",
    "        table_str += col +  \" \"  + data + \", \"\n",
    "    \n",
    "    table_str = table_str[:-2]\n",
    "    \n",
    "    print(table_str)\n",
    "    \n",
    "    try :\n",
    "        connection = sqlite3.connect(db)\n",
    "        query = f\"\"\" create table {table_name} ({table_str})\"\"\"\n",
    "        print(query)\n",
    "        execution = connection.execute(query)\n",
    "    \n",
    "    except Exception as ex:\n",
    "        print(ex)\n",
    "    finally:\n",
    "        \n",
    "        connection.commit()\n",
    "        connection.close()\n",
    "    \n",
    "My_DB_Execution(\"family\",\"testing.db\",\"name text\" , \"age int\")"
   ]
  },
  {
   "cell_type": "code",
   "execution_count": 100,
   "id": "cf7e1199-4d6e-4250-8f49-7bdd17f5d6a7",
   "metadata": {},
   "outputs": [
    {
     "name": "stdout",
     "output_type": "stream",
     "text": [
      "sorry babu\n"
     ]
    }
   ],
   "source": [
    "try:\n",
    "    var = 10/0\n",
    "    print(var)\n",
    "except:\n",
    "    print(\"sorry babu\")"
   ]
  },
  {
   "cell_type": "code",
   "execution_count": 102,
   "id": "9fc8e61e-73e4-4a27-be1c-1e25845d1996",
   "metadata": {},
   "outputs": [
    {
     "name": "stdout",
     "output_type": "stream",
     "text": [
      "division by zero\n",
      "ruko jara sabar karo\n"
     ]
    }
   ],
   "source": [
    "try:\n",
    "    var = 10/0\n",
    "    print(var)\n",
    "except TypeError as ex:\n",
    "    print(ex)\n",
    "except ZeroDivisionError as ex:\n",
    "    print(ex)\n",
    "    print(\"ruko jara sabar karo\")\n",
    "except:\n",
    "    print(\"sorry babu\")\n"
   ]
  },
  {
   "cell_type": "code",
   "execution_count": 103,
   "id": "25808841-b5c8-4576-9c28-4990e53f2ae8",
   "metadata": {},
   "outputs": [
    {
     "name": "stdout",
     "output_type": "stream",
     "text": [
      "division by zero\n"
     ]
    }
   ],
   "source": [
    "try:\n",
    "    var = 10/0\n",
    "    print(var)\n",
    "except (TypeError,ZeroDivisionError) as ex:\n",
    "    print(ex)\n",
    "\n",
    "except:\n",
    "    print(\"sorry babu\")\n"
   ]
  },
  {
   "cell_type": "code",
   "execution_count": 104,
   "id": "957d5cef-1844-4dff-9f75-746b5615cdd8",
   "metadata": {},
   "outputs": [
    {
     "name": "stdout",
     "output_type": "stream",
     "text": [
      "division by zero\n"
     ]
    }
   ],
   "source": [
    "try:\n",
    "    var = 10/0\n",
    "    print(var)\n",
    "except Exception as ex:\n",
    "    print(ex)\n",
    "\n",
    "except:\n",
    "    print(\"sorry babu\")\n"
   ]
  },
  {
   "cell_type": "code",
   "execution_count": 105,
   "id": "6e487082-2df0-41be-85a2-ecdb46678f5a",
   "metadata": {},
   "outputs": [
    {
     "name": "stdout",
     "output_type": "stream",
     "text": [
      "division by zero\n",
      "welcome\n"
     ]
    }
   ],
   "source": [
    "try:\n",
    "    var = 10/0\n",
    "    print(var)\n",
    "except Exception as ex:\n",
    "    print(ex)\n",
    "\n",
    "except:\n",
    "    print(\"sorry babu\")\n",
    "\n",
    "else:\n",
    "    print(\"else\")\n",
    "finally:\n",
    "    print(\"welcome\")\n"
   ]
  },
  {
   "cell_type": "code",
   "execution_count": 18,
   "id": "5b10429f-0c30-4311-9bf1-cd8ac07dc94a",
   "metadata": {},
   "outputs": [],
   "source": [
    "def My_DB_Execution(table_name,db = \"testing.db\"):\n",
    "      \n",
    "    try :\n",
    "        connection= \"\"\n",
    "        connection = sqlite3.connect(db)\n",
    "        query = f\"\"\" insert into {table_name} values(\"pankaj\",22)\"\"\"\n",
    "        query1 = f\"\"\" insert into {table_name} values(\"rohit\",23)\"\"\"\n",
    "        query2 = f\"\"\" insert into {table_name} values(\"aman\", 20)\"\"\"\n",
    "        execution = connection.execute(query)\n",
    "        execution = connection.execute(query1)\n",
    "        execution = connection.execute(query2)\n",
    "    \n",
    "    except Exception as ex:\n",
    "        print(ex)\n",
    "    finally:\n",
    "        if connection != \"\":\n",
    "                \n",
    "            connection.commit()\n",
    "            connection.close()\n",
    "    \n",
    "My_DB_Execution(\"contact\",\"testing.db\")"
   ]
  },
  {
   "cell_type": "code",
   "execution_count": 14,
   "id": "530bf06c-1935-467f-be25-f2a7057dae40",
   "metadata": {},
   "outputs": [
    {
     "name": "stdout",
     "output_type": "stream",
     "text": [
      "database is locked\n"
     ]
    }
   ],
   "source": [
    "def My_DB_Execution(table_name,db = \"testing.db\"):\n",
    "      \n",
    "    try :\n",
    "        connection= \"\"\n",
    "        connection = sqlite3.connect(db,timeout=10)\n",
    "        query = f\"\"\"select * from {table_name}\"\"\"\n",
    "        execution = connection.execute(query)\n",
    "        \n",
    "        for val in execution:\n",
    "            print(val)\n",
    "    \n",
    "    except Exception as ex:\n",
    "        print(ex)\n",
    "    finally:\n",
    "        connection.commit()\n",
    "        connection.close()\n",
    "    \n",
    "My_DB_Execution(\"contact\",\"testing.db\")"
   ]
  },
  {
   "cell_type": "code",
   "execution_count": 112,
   "id": "8dc131c2-3c1c-4e76-9457-596d52bd79bc",
   "metadata": {},
   "outputs": [
    {
     "name": "stdout",
     "output_type": "stream",
     "text": [
      "sorry\n"
     ]
    }
   ],
   "source": [
    "try:\n",
    "    var = 10\n",
    "    if var>5:\n",
    "        raise IndexError\n",
    "except IndexError:\n",
    "    print(\"sorry\")\n"
   ]
  },
  {
   "cell_type": "code",
   "execution_count": 113,
   "id": "faf6407e-dd70-4c67-857f-8afa025d1cd3",
   "metadata": {},
   "outputs": [
    {
     "name": "stdout",
     "output_type": "stream",
     "text": [
      "this is my exception\n"
     ]
    }
   ],
   "source": [
    "try:\n",
    "    var = 10\n",
    "    if var>5:\n",
    "        raise IndexError(\"this is my exception\")\n",
    "except IndexError as ex:\n",
    "    print(ex)\n"
   ]
  },
  {
   "cell_type": "code",
   "execution_count": 116,
   "id": "ee0c1659-da99-4e6e-b017-f3be08fcec7c",
   "metadata": {},
   "outputs": [
    {
     "ename": "NameError",
     "evalue": "name 'MyError' is not defined",
     "output_type": "error",
     "traceback": [
      "\u001b[1;31m---------------------------------------------------------------------------\u001b[0m",
      "\u001b[1;31mNameError\u001b[0m                                 Traceback (most recent call last)",
      "\u001b[1;32m~\\AppData\\Local\\Temp/ipykernel_11036/3526112001.py\u001b[0m in \u001b[0;36m<module>\u001b[1;34m\u001b[0m\n\u001b[0;32m      3\u001b[0m     \u001b[1;32mif\u001b[0m \u001b[0mvar\u001b[0m\u001b[1;33m>\u001b[0m\u001b[1;36m5\u001b[0m\u001b[1;33m:\u001b[0m\u001b[1;33m\u001b[0m\u001b[1;33m\u001b[0m\u001b[0m\n\u001b[1;32m----> 4\u001b[1;33m         \u001b[1;32mraise\u001b[0m \u001b[0mMyError\u001b[0m\u001b[1;33m\u001b[0m\u001b[1;33m\u001b[0m\u001b[0m\n\u001b[0m\u001b[0;32m      5\u001b[0m \u001b[1;32mexcept\u001b[0m \u001b[0mMyError\u001b[0m\u001b[1;33m:\u001b[0m\u001b[1;33m\u001b[0m\u001b[1;33m\u001b[0m\u001b[0m\n",
      "\u001b[1;31mNameError\u001b[0m: name 'MyError' is not defined",
      "\nDuring handling of the above exception, another exception occurred:\n",
      "\u001b[1;31mNameError\u001b[0m                                 Traceback (most recent call last)",
      "\u001b[1;32m~\\AppData\\Local\\Temp/ipykernel_11036/3526112001.py\u001b[0m in \u001b[0;36m<module>\u001b[1;34m\u001b[0m\n\u001b[0;32m      3\u001b[0m     \u001b[1;32mif\u001b[0m \u001b[0mvar\u001b[0m\u001b[1;33m>\u001b[0m\u001b[1;36m5\u001b[0m\u001b[1;33m:\u001b[0m\u001b[1;33m\u001b[0m\u001b[1;33m\u001b[0m\u001b[0m\n\u001b[0;32m      4\u001b[0m         \u001b[1;32mraise\u001b[0m \u001b[0mMyError\u001b[0m\u001b[1;33m\u001b[0m\u001b[1;33m\u001b[0m\u001b[0m\n\u001b[1;32m----> 5\u001b[1;33m \u001b[1;32mexcept\u001b[0m \u001b[0mMyError\u001b[0m\u001b[1;33m:\u001b[0m\u001b[1;33m\u001b[0m\u001b[1;33m\u001b[0m\u001b[0m\n\u001b[0m\u001b[0;32m      6\u001b[0m     \u001b[0mprint\u001b[0m\u001b[1;33m(\u001b[0m\u001b[1;34m\"sorry\"\u001b[0m\u001b[1;33m)\u001b[0m\u001b[1;33m\u001b[0m\u001b[1;33m\u001b[0m\u001b[0m\n",
      "\u001b[1;31mNameError\u001b[0m: name 'MyError' is not defined"
     ]
    }
   ],
   "source": [
    "try:\n",
    "    var = 10\n",
    "    if var>5:\n",
    "        raise MyError\n",
    "except MyError:\n",
    "    print(\"sorry\")\n"
   ]
  },
  {
   "cell_type": "code",
   "execution_count": 119,
   "id": "ef46cee5-0668-4ce6-8990-8f0e38ab06c1",
   "metadata": {},
   "outputs": [
    {
     "name": "stdout",
     "output_type": "stream",
     "text": [
      "user defined exception\n"
     ]
    }
   ],
   "source": [
    "class MyError(Exception):\n",
    "    my_meaning = \"user defined exception\"\n",
    "    \n",
    "try:\n",
    "    var = 10\n",
    "    if var>5:\n",
    "        raise MyError\n",
    "except MyError as ex:\n",
    "    print(ex.my_meaning)\n"
   ]
  },
  {
   "cell_type": "code",
   "execution_count": 16,
   "id": "e67c9b3a-6ba7-43e4-86b0-4cae03321a77",
   "metadata": {},
   "outputs": [],
   "source": [
    "import sqlite3"
   ]
  },
  {
   "cell_type": "code",
   "execution_count": 17,
   "id": "06c43085-f09f-4d23-88e0-171581c5eb3c",
   "metadata": {},
   "outputs": [
    {
     "name": "stdout",
     "output_type": "stream",
     "text": [
      " insert into family values(\"pankaj\",22);\n"
     ]
    }
   ],
   "source": [
    "def My_DB_Execution(table_name,db = \"testing.db\"):\n",
    "\n",
    "    connection = sqlite3.connect(db)\n",
    "    query = f' insert into {table_name} values(\"pankaj\",22);'\n",
    "    print(query)\n",
    "    execution = connection.execute(query)\n",
    "    connection.commit()\n",
    "    connection.close()\n",
    "    \n",
    "My_DB_Execution(\"family\",\"testing.db\")"
   ]
  },
  {
   "cell_type": "code",
   "execution_count": 15,
   "id": "c24168d4-32f0-4735-a389-0bf75b24c9ed",
   "metadata": {},
   "outputs": [
    {
     "ename": "NameError",
     "evalue": "name 'connection' is not defined",
     "output_type": "error",
     "traceback": [
      "\u001b[1;31m---------------------------------------------------------------------------\u001b[0m",
      "\u001b[1;31mNameError\u001b[0m                                 Traceback (most recent call last)",
      "\u001b[1;32m~\\AppData\\Local\\Temp/ipykernel_20512/4198665177.py\u001b[0m in \u001b[0;36m<module>\u001b[1;34m\u001b[0m\n\u001b[1;32m----> 1\u001b[1;33m \u001b[0mconnection\u001b[0m\u001b[1;33m.\u001b[0m\u001b[0mcommit\u001b[0m\u001b[1;33m(\u001b[0m\u001b[1;33m)\u001b[0m\u001b[1;33m\u001b[0m\u001b[1;33m\u001b[0m\u001b[0m\n\u001b[0m",
      "\u001b[1;31mNameError\u001b[0m: name 'connection' is not defined"
     ]
    }
   ],
   "source": []
  },
  {
   "cell_type": "code",
   "execution_count": null,
   "id": "63d57206-a6a1-4ee5-931e-ffd43869cc17",
   "metadata": {},
   "outputs": [],
   "source": []
  }
 ],
 "metadata": {
  "kernelspec": {
   "display_name": "Python 3 (ipykernel)",
   "language": "python",
   "name": "python3"
  },
  "language_info": {
   "codemirror_mode": {
    "name": "ipython",
    "version": 3
   },
   "file_extension": ".py",
   "mimetype": "text/x-python",
   "name": "python",
   "nbconvert_exporter": "python",
   "pygments_lexer": "ipython3",
   "version": "3.8.0"
  }
 },
 "nbformat": 4,
 "nbformat_minor": 5
}
