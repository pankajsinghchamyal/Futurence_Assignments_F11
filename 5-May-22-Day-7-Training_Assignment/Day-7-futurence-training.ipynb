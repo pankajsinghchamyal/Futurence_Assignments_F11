{
 "cells": [
  {
   "cell_type": "code",
   "execution_count": 1,
   "metadata": {},
   "outputs": [],
   "source": [
    "import re"
   ]
  },
  {
   "cell_type": "code",
   "execution_count": 2,
   "metadata": {},
   "outputs": [
    {
     "name": "stdout",
     "output_type": "stream",
     "text": [
      "<re.Match object; span=(0, 5), match='dhoni'>\n",
      "dhoni\n",
      "(0, 5)\n",
      "0\n",
      "5\n"
     ]
    }
   ],
   "source": [
    "var = \"dhoni is better than kohli\"\n",
    "data = re.match(\"dhoni\",var)\n",
    "print(data)\n",
    "print(data.group())\n",
    "print(data.span())\n",
    "print(data.start())\n",
    "print(data.end()) \n"
   ]
  },
  {
   "cell_type": "code",
   "execution_count": 3,
   "metadata": {},
   "outputs": [
    {
     "name": "stdout",
     "output_type": "stream",
     "text": [
      "<re.Match object; span=(6, 8), match='is'>\n",
      "is\n"
     ]
    }
   ],
   "source": [
    "var = \"dhoni is better than kohli\"\n",
    "data = re.search(\"is\",var)\n",
    "print(data)\n",
    "print(data.group())\n"
   ]
  },
  {
   "cell_type": "code",
   "execution_count": 4,
   "metadata": {},
   "outputs": [
    {
     "name": "stdout",
     "output_type": "stream",
     "text": [
      "<re.Match object; span=(6, 8), match='is'>\n",
      "is\n"
     ]
    }
   ],
   "source": [
    "var = \"dhoni is better than kohli\"\n",
    "data = re.search(\"is\",var, re.I)\n",
    "print(data)\n",
    "print(data.group())\n"
   ]
  },
  {
   "cell_type": "code",
   "execution_count": 5,
   "metadata": {},
   "outputs": [
    {
     "name": "stdout",
     "output_type": "stream",
     "text": [
      "<re.Match object; span=(0, 5), match='dhoni'>\n",
      "dhoni\n"
     ]
    }
   ],
   "source": [
    "var = \"\"\"dhoni is better than kohli\n",
    "dhoni they both play for india kohli is senior\"\"\"\n",
    "data = re.match(\"dhoni\",var,re.I)\n",
    "print(data)\n",
    "print(data.group())\n"
   ]
  },
  {
   "cell_type": "code",
   "execution_count": 6,
   "metadata": {},
   "outputs": [
    {
     "name": "stdout",
     "output_type": "stream",
     "text": [
      "<html><body><head></body>\n"
     ]
    }
   ],
   "source": [
    "var = \"<html><body><head></body>\"\n",
    "data = re.search(\"<.*>\",var)\n",
    "print(data.group())"
   ]
  },
  {
   "cell_type": "code",
   "execution_count": 7,
   "metadata": {},
   "outputs": [
    {
     "name": "stdout",
     "output_type": "stream",
     "text": [
      "<html>\n"
     ]
    }
   ],
   "source": [
    "var = \"<html><body><head></body>\"\n",
    "data = re.search(\"<.*?>\",var)\n",
    "print(data.group())"
   ]
  },
  {
   "cell_type": "code",
   "execution_count": 8,
   "metadata": {},
   "outputs": [
    {
     "name": "stdout",
     "output_type": "stream",
     "text": [
      "<re.Match object; span=(0, 26), match='dhoni is better than kohli'>\n",
      "dhoni is better than kohli\n"
     ]
    }
   ],
   "source": [
    "var = \"dhoni is better than kohli\"\n",
    "data = re.search(\".* is.*\",var, re.I)\n",
    "print(data)\n",
    "print(data.group())\n"
   ]
  },
  {
   "cell_type": "code",
   "execution_count": 9,
   "metadata": {},
   "outputs": [
    {
     "name": "stdout",
     "output_type": "stream",
     "text": [
      "<re.Match object; span=(0, 26), match='dhoni is better than kohli'>\n",
      "dhoni is better than kohli\n",
      "dhoni\n",
      "better than kohli\n"
     ]
    }
   ],
   "source": [
    "var = \"dhoni is better than kohli\"\n",
    "data = re.search(\"(.*) is (.*)\",var)\n",
    "print(data)\n",
    "print(data.group())\n",
    "print(data.group(1))\n",
    "print(data.group(2))\n",
    "\n",
    "                 \n"
   ]
  },
  {
   "cell_type": "code",
   "execution_count": 10,
   "metadata": {},
   "outputs": [
    {
     "name": "stdout",
     "output_type": "stream",
     "text": [
      "<re.Match object; span=(0, 26), match='dhoni is better than kohli'>\n",
      "dhoni is better than kohli\n",
      "dhoni\n",
      "better\n",
      "than kohli\n"
     ]
    }
   ],
   "source": [
    "var = \"dhoni is better than kohli\"\n",
    "data = re.search(\"(.*) is (.*?) (.*)\",var)\n",
    "print(data)\n",
    "print(data.group())\n",
    "print(data.group(1))\n",
    "print(data.group(2))\n",
    "print(data.group(3))\n"
   ]
  },
  {
   "cell_type": "code",
   "execution_count": 11,
   "metadata": {},
   "outputs": [
    {
     "name": "stdout",
     "output_type": "stream",
     "text": [
      "['183', '220', '9', '7', '5']\n"
     ]
    }
   ],
   "source": [
    "var = \"DHONI scored 183 against SRIlanks @ 2209 with 7.5 Avg per OVER!!!\"\n",
    "data = re.findall(\"\\d{1,3}\",var)\n",
    "print(data)"
   ]
  },
  {
   "cell_type": "code",
   "execution_count": 12,
   "metadata": {},
   "outputs": [
    {
     "name": "stdout",
     "output_type": "stream",
     "text": [
      "['1', '8', '3', '2', '2', '0', '9', '7', '5']\n"
     ]
    }
   ],
   "source": [
    "var = \"DHONI scored 183 against SRIlanks @ 2209 with 7.5 Avg per OVER!!!\"\n",
    "data = re.findall(\"\\d{1}\",var)\n",
    "print(data)"
   ]
  },
  {
   "cell_type": "code",
   "execution_count": 13,
   "metadata": {},
   "outputs": [
    {
     "name": "stdout",
     "output_type": "stream",
     "text": [
      "['DHO', 'NI ', 'sco', 'red', ' ', ' ag', 'ain', 'st ', 'SRI', 'lan', 'ks ', '@ ', ' wi', 'th ', '.', ' Av', 'g p', 'er ', 'OVE', 'R!!', '!']\n"
     ]
    }
   ],
   "source": [
    "var = \"DHONI scored 183 against SRIlanks @ 2209 with 7.5 Avg per OVER!!!\"\n",
    "data = re.findall(\"\\D{1,3}\",var)\n",
    "print(data)"
   ]
  },
  {
   "cell_type": "code",
   "execution_count": 14,
   "metadata": {},
   "outputs": [
    {
     "name": "stdout",
     "output_type": "stream",
     "text": [
      "['D', 'H', 'O', 'N', 'I', 's', 'c', 'o', 'r', 'e', 'd', '1', '8', '3', 'a', 'g', 'a', 'i', 'n', 's', 't', 'S', 'R', 'I', 'l', 'a', 'n', 'k', 's', '2', '2', '0', '9', 'w', 'i', 't', 'h', '7', '5', 'A', 'v', 'g', 'p', 'e', 'r', 'O', 'V', 'E', 'R']\n"
     ]
    }
   ],
   "source": [
    "var = \"DHONI scored 183 against SRIlanks @ 2209 with 7.5 Avg per OVER!!!\"\n",
    "data = re.findall(\"\\w\",var)\n",
    "print(data)"
   ]
  },
  {
   "cell_type": "code",
   "execution_count": 15,
   "metadata": {},
   "outputs": [
    {
     "name": "stdout",
     "output_type": "stream",
     "text": [
      "['DHONI', '', 'scored', '', '183', '', 'against', '', 'SRIlanks', '', '', '', '2209', '', 'with', '', '7', '', '5', '', 'Avg', '', 'per', '', 'OVER', '', '', '', '']\n"
     ]
    }
   ],
   "source": [
    "var = \"DHONI scored 183 against SRIlanks @ 2209 with 7.5 Avg per OVER!!!\"\n",
    "data = re.findall(\"\\w*\",var)\n",
    "print(data)"
   ]
  },
  {
   "cell_type": "code",
   "execution_count": 16,
   "metadata": {},
   "outputs": [
    {
     "name": "stdout",
     "output_type": "stream",
     "text": [
      "['DHONI', 'scored', '183', 'against', 'SRIlanks', '2209', 'with', '7', '5', 'Avg', 'per', 'OVER']\n"
     ]
    }
   ],
   "source": [
    "var = \"DHONI scored 183 against SRIlanks @ 2209 with 7.5 Avg per OVER!!!\"\n",
    "data = re.findall(\"\\w+\",var)\n",
    "print(data)"
   ]
  },
  {
   "cell_type": "code",
   "execution_count": 17,
   "metadata": {},
   "outputs": [
    {
     "name": "stdout",
     "output_type": "stream",
     "text": [
      "[' ', ' ', ' ', ' ', ' ', ' ', ' ', ' ', ' ', ' ', ' ']\n"
     ]
    }
   ],
   "source": [
    "var = \"DHONI scored 183 against SRIlanks @ 2209 with 7.5 Avg per OVER!!!\"\n",
    "data = re.findall(\"\\s\",var)\n",
    "print(data)"
   ]
  },
  {
   "cell_type": "code",
   "execution_count": 18,
   "metadata": {},
   "outputs": [
    {
     "name": "stdout",
     "output_type": "stream",
     "text": [
      "['D', 'H', 'O', 'N', 'I', 's', 'c', 'o', 'r', 'e', 'd', '1', '8', '3', 'a', 'g', 'a', 'i', 'n', 's', 't', 'S', 'R', 'I', 'l', 'a', 'n', 'k', 's', '@', '2', '2', '0', '9', 'w', 'i', 't', 'h', '7', '.', '5', 'A', 'v', 'g', 'p', 'e', 'r', 'O', 'V', 'E', 'R', '!', '!', '!']\n"
     ]
    }
   ],
   "source": [
    "var = \"DHONI scored 183 against SRIlanks @ 2209 with 7.5 Avg per OVER!!!\"\n",
    "data = re.findall(\"\\S\",var)\n",
    "print(data)"
   ]
  },
  {
   "cell_type": "markdown",
   "metadata": {},
   "source": [
    "Multithreading...\n"
   ]
  },
  {
   "cell_type": "code",
   "execution_count": 19,
   "metadata": {},
   "outputs": [],
   "source": [
    "import time\n",
    "import threading"
   ]
  },
  {
   "cell_type": "code",
   "execution_count": 20,
   "metadata": {},
   "outputs": [
    {
     "name": "stdout",
     "output_type": "stream",
     "text": [
      "one\n",
      "Thu May  5 11:27:26 2022\n",
      "two\n",
      "Thu May  5 11:27:28 2022\n"
     ]
    }
   ],
   "source": [
    "def fun1():\n",
    "    print(\"one\")\n",
    "    print(time.ctime())\n",
    "    time.sleep(2)\n",
    "def fun2():\n",
    "    print(\"two\")\n",
    "    print(time.ctime())\n",
    "fun1()\n",
    "fun2()"
   ]
  },
  {
   "cell_type": "code",
   "execution_count": 21,
   "metadata": {},
   "outputs": [
    {
     "name": "stdout",
     "output_type": "stream",
     "text": [
      "one\n",
      "Thu May  5 11:27:28 2022\n",
      "two\n",
      "Thu May  5 11:27:28 2022\n"
     ]
    }
   ],
   "source": [
    "def fun1():\n",
    "    print(\"one\")\n",
    "    print(time.ctime())\n",
    "    time.sleep(2)\n",
    "def fun2():\n",
    "    print(\"two\")\n",
    "    print(time.ctime())\n",
    "\n",
    "t1 = threading.Thread(target = fun1)\n",
    "t2 = threading.Thread(target = fun2)\n",
    "t1.start()\n",
    "t2.start()"
   ]
  },
  {
   "cell_type": "code",
   "execution_count": 22,
   "metadata": {},
   "outputs": [
    {
     "name": "stdout",
     "output_type": "stream",
     "text": [
      "dhoni\n",
      "Thu May  5 11:27:28 2022\n",
      "kholi\n",
      "Thu May  5 11:27:28 2022\n"
     ]
    }
   ],
   "source": [
    "def fun1(name):\n",
    "    print(name)\n",
    "    print(time.ctime())\n",
    "    time.sleep(2)\n",
    "def fun2(name):\n",
    "    \n",
    "    print(name)\n",
    "    print(time.ctime())\n",
    "\n",
    "t1 = threading.Thread(target = fun1, args= (\"dhoni\",))\n",
    "t2 = threading.Thread(target = fun2, args = (\"kholi\",))\n",
    "t1.start()\n",
    "t2.start()"
   ]
  },
  {
   "cell_type": "code",
   "execution_count": 23,
   "metadata": {},
   "outputs": [
    {
     "name": "stdout",
     "output_type": "stream",
     "text": [
      "dhoni\n",
      "Thu May  5 11:27:28 2022\n",
      "kholi\n",
      "Thu May  5 11:27:28 2022\n"
     ]
    }
   ],
   "source": [
    "def fun1(name):\n",
    "    print(name)\n",
    "    print(time.ctime())\n",
    "    time.sleep(2)\n",
    "def fun2(name):\n",
    "    \n",
    "    print(name)\n",
    "    print(time.ctime())\n",
    "\n",
    "t1 = threading.Thread(target = fun1, args= (\"dhoni\",))\n",
    "t2 = threading.Thread(target = fun2, args = (\"kholi\",))\n",
    "t1.start()\n",
    "t2.start()\n",
    "t1.join()\n",
    "t2.join()"
   ]
  },
  {
   "cell_type": "code",
   "execution_count": 24,
   "metadata": {},
   "outputs": [
    {
     "name": "stdout",
     "output_type": "stream",
     "text": [
      "dhoni\n",
      "Thu May  5 11:27:30 2022\n",
      "kholi\n",
      "Thu May  5 11:27:30 2022\n",
      "dhoni\n",
      "Thu May  5 11:27:32 2022\n",
      "kholi\n",
      "Thu May  5 11:27:34 2022\n",
      "dhoni\n",
      "Thu May  5 11:27:34 2022\n",
      "dhoni\n",
      "Thu May  5 11:27:36 2022\n",
      "kholi\n",
      "Thu May  5 11:27:38 2022\n",
      "dhoni\n",
      "Thu May  5 11:27:38 2022\n",
      "kholi\n",
      "Thu May  5 11:27:42 2022\n",
      "kholi\n",
      "Thu May  5 11:27:46 2022\n"
     ]
    }
   ],
   "source": [
    "def fun1(name,delay):\n",
    "    \n",
    "    counter = 0\n",
    "    while counter<5:\n",
    "        print(name)\n",
    "        print(time.ctime())\n",
    "        time.sleep(delay)\n",
    "        counter +=1\n",
    "\n",
    "\n",
    "t1 = threading.Thread(target = fun1, args= (\"dhoni\",2))\n",
    "t2 = threading.Thread(target = fun1, args = (\"kholi\",4))\n",
    "t1.start()\n",
    "t2.start()\n",
    "t1.join()\n",
    "t2.join()"
   ]
  },
  {
   "cell_type": "code",
   "execution_count": null,
   "metadata": {},
   "outputs": [],
   "source": [
    "import time\n",
    "from concurrent.futures import ProcessPoolExecutor, ThreadPoolExecutor\n",
    "\n",
    "import matplotlib.pyplot as plt\n",
    "import numpy as np\n",
    "\n",
    "\n",
    "def multithreading(func, args, workers):\n",
    "    with ThreadPoolExecutor(workers) as ex:\n",
    "        res = ex.map(func, args)\n",
    "    return list(res)\n",
    "\n",
    "\n",
    "def multiprocessing(func, args, workers):\n",
    "    with ProcessPoolExecutor(workers) as ex:\n",
    "        res = ex.map(func, args)\n",
    "    return list(res)\n",
    "\n",
    "\n",
    "def cpu_heavy(x):\n",
    "    print('I am', x)\n",
    "    start = time.time()\n",
    "    count = 0\n",
    "    for i in range(10**8):\n",
    "        count += i\n",
    "    stop = time.time()\n",
    "    return start, stop\n",
    "\n",
    "\n",
    "def visualize_runtimes(results, title):\n",
    "    start, stop = np.array(results).T\n",
    "    plt.barh(range(len(start)), stop - start)\n",
    "    plt.grid(axis='x')\n",
    "    plt.ylabel(\"Tasks\")\n",
    "    plt.xlabel(\"Seconds\")\n",
    "    plt.xlim(0, 22.5)\n",
    "    ytks = range(len(results))\n",
    "    plt.yticks(ytks, ['job {}'.format(exp) for exp in ytks])\n",
    "    plt.title(title)\n",
    "    return stop[-1] - start[0]\n",
    "\n",
    "\n",
    "plt.subplot(1, 2, 1)\n",
    "visualize_runtimes(multithreading(cpu_heavy, range(4), 4), \"Multithreading\")\n",
    "plt.subplot(1, 2, 2)\n",
    "visualize_runtimes(multiprocessing(cpu_heavy, range(4), 4), \"Multiprocessing\")\n",
    "plt.show()"
   ]
  },
  {
   "cell_type": "code",
   "execution_count": null,
   "metadata": {},
   "outputs": [],
   "source": []
  },
  {
   "cell_type": "code",
   "execution_count": null,
   "metadata": {},
   "outputs": [],
   "source": []
  }
 ],
 "metadata": {
  "kernelspec": {
   "display_name": "Python 3",
   "language": "python",
   "name": "python3"
  },
  "language_info": {
   "codemirror_mode": {
    "name": "ipython",
    "version": 3
   },
   "file_extension": ".py",
   "mimetype": "text/x-python",
   "name": "python",
   "nbconvert_exporter": "python",
   "pygments_lexer": "ipython3",
   "version": "3.7.4"
  }
 },
 "nbformat": 4,
 "nbformat_minor": 4
}
