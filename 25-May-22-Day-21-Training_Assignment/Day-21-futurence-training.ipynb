{
 "cells": [
  {
   "cell_type": "markdown",
   "id": "418cf83b-bc65-4a1e-aeeb-15ef5eb8b2b9",
   "metadata": {},
   "source": [
    "# list comprehenssion"
   ]
  },
  {
   "cell_type": "code",
   "execution_count": 2,
   "id": "d20a9836-4019-4094-a4c7-b41ff5d2f35b",
   "metadata": {},
   "outputs": [
    {
     "data": {
      "text/plain": [
       "[0, 1, 2, 3, 4, 5, 6, 7, 8, 9]"
      ]
     },
     "execution_count": 2,
     "metadata": {},
     "output_type": "execute_result"
    }
   ],
   "source": [
    "l = []\n",
    "for i in range(2,10):\n",
    "    l.append(i)\n",
    "l"
   ]
  },
  {
   "cell_type": "code",
   "execution_count": 3,
   "id": "3d497e15-0100-42ff-b1ec-1b930ac453eb",
   "metadata": {},
   "outputs": [],
   "source": [
    "lc = [i for i in range(10)]"
   ]
  },
  {
   "cell_type": "code",
   "execution_count": 4,
   "id": "1fbb1773-bd8c-445f-b29a-6cda902010f0",
   "metadata": {},
   "outputs": [
    {
     "data": {
      "text/plain": [
       "[0, 1, 2, 3, 4, 5, 6, 7, 8, 9]"
      ]
     },
     "execution_count": 4,
     "metadata": {},
     "output_type": "execute_result"
    }
   ],
   "source": [
    "lc"
   ]
  },
  {
   "cell_type": "code",
   "execution_count": 10,
   "id": "aa85bacd-4f79-43fd-b90c-da197366f13d",
   "metadata": {},
   "outputs": [
    {
     "ename": "SyntaxError",
     "evalue": "invalid syntax (Temp/ipykernel_10128/3228712924.py, line 4)",
     "output_type": "error",
     "traceback": [
      "\u001b[1;36m  File \u001b[1;32m\"C:\\Users\\Lenovo\\AppData\\Local\\Temp/ipykernel_10128/3228712924.py\"\u001b[1;36m, line \u001b[1;32m4\u001b[0m\n\u001b[1;33m    l = [val if val%2 == 0 \"even\" else \"odd\" for val in l ]\u001b[0m\n\u001b[1;37m                           ^\u001b[0m\n\u001b[1;31mSyntaxError\u001b[0m\u001b[1;31m:\u001b[0m invalid syntax\n"
     ]
    }
   ],
   "source": [
    "x = 2\n",
    "l = [11,12,13,14]\n",
    "\n",
    "l = [val if val%2 == 0 \"even\" else \"odd\" for val in l ]\n",
    "l\n"
   ]
  },
  {
   "cell_type": "code",
   "execution_count": 12,
   "id": "cd26ff7d-b17b-4ece-8047-55eb318acfe2",
   "metadata": {},
   "outputs": [
    {
     "data": {
      "text/plain": [
       "[2, 6, 4, 10, 6, 14, 8, 18]"
      ]
     },
     "execution_count": 12,
     "metadata": {},
     "output_type": "execute_result"
    }
   ],
   "source": [
    "lc = [i if i%2 == 0 else i*2 for i in range(2,10)]\n",
    "lc"
   ]
  },
  {
   "cell_type": "code",
   "execution_count": 18,
   "id": "293d529c-f7fc-4cf6-83e4-bbede14071da",
   "metadata": {},
   "outputs": [
    {
     "name": "stdout",
     "output_type": "stream",
     "text": [
      "prime\n",
      "not prime\n",
      "not prime\n",
      "prime\n"
     ]
    }
   ],
   "source": [
    "lc = [11,34,32,31]\n",
    "flag = 0\n",
    "for val in lc:\n",
    "    flag = 0\n",
    "    for i in range(2,val):\n",
    "        if val%i == 0:\n",
    "            print(\"not prime\")\n",
    "            flag = 1\n",
    "            break\n",
    "    if flag !=1:\n",
    "        print(\"prime\")\n",
    "    \n",
    "        \n",
    "\n"
   ]
  },
  {
   "cell_type": "code",
   "execution_count": 25,
   "id": "519a7915-b93c-451d-af9e-8c4620fd984d",
   "metadata": {},
   "outputs": [
    {
     "ename": "SyntaxError",
     "evalue": "invalid syntax (Temp/ipykernel_10128/3318057684.py, line 1)",
     "output_type": "error",
     "traceback": [
      "\u001b[1;36m  File \u001b[1;32m\"C:\\Users\\Lenovo\\AppData\\Local\\Temp/ipykernel_10128/3318057684.py\"\u001b[1;36m, line \u001b[1;32m1\u001b[0m\n\u001b[1;33m    lc = [val for val in lc for i in range(2,val) if val%i==0 'not prime']\u001b[0m\n\u001b[1;37m                                                              ^\u001b[0m\n\u001b[1;31mSyntaxError\u001b[0m\u001b[1;31m:\u001b[0m invalid syntax\n"
     ]
    }
   ],
   "source": [
    "lc = [val for val in lc for i in range(2,val) if val%i==0 'not prime']\n",
    "lc"
   ]
  },
  {
   "cell_type": "code",
   "execution_count": 30,
   "id": "df3c19ba-3443-48c0-986e-1f7b1a91397e",
   "metadata": {},
   "outputs": [
    {
     "name": "stdin",
     "output_type": "stream",
     "text": [
      " 10\n"
     ]
    },
    {
     "name": "stdout",
     "output_type": "stream",
     "text": [
      "Not Prime\n"
     ]
    }
   ],
   "source": [
    "count = 0\n",
    "p= int(input())\n",
    "\n",
    "n = lambda x: 'Not Prime' if len([count+1 for i in range(2, x//2+1) if x%i==0]) >=1 else 'Prime'\n",
    "print(n(p))"
   ]
  },
  {
   "cell_type": "code",
   "execution_count": 31,
   "id": "cabd1135-4c12-4f15-9baa-a536e5101536",
   "metadata": {},
   "outputs": [
    {
     "data": {
      "text/plain": [
       "['prime', 'Not Prime', 'Not Prime', 'prime', 'prime']"
      ]
     },
     "execution_count": 31,
     "metadata": {},
     "output_type": "execute_result"
    }
   ],
   "source": [
    "x = [2,4,6,67,743]\n",
    "l = [\"prime\" if not [j for j in range(2,i//2+1) if i%j==0] else \"Not Prime\" for i in x]\n",
    "l"
   ]
  },
  {
   "cell_type": "code",
   "execution_count": null,
   "id": "29bbebd7-cbe4-4be7-9503-2d8234303909",
   "metadata": {},
   "outputs": [],
   "source": [
    "n = 14\n",
    "f1 = lambda n: \"Not Prime\" if "
   ]
  },
  {
   "cell_type": "code",
   "execution_count": null,
   "id": "bb58447d-22d3-4384-a60d-cd5321c5e05a",
   "metadata": {},
   "outputs": [],
   "source": [
    "prime = []\n",
    "c_prime = []\n",
    "\n",
    "for i in range(2,500):\n",
    "    prime = [i if not [j for j in range(2,i//2+1) if i%j==0]\n",
    "        "
   ]
  }
 ],
 "metadata": {
  "kernelspec": {
   "display_name": "Python 3 (ipykernel)",
   "language": "python",
   "name": "python3"
  },
  "language_info": {
   "codemirror_mode": {
    "name": "ipython",
    "version": 3
   },
   "file_extension": ".py",
   "mimetype": "text/x-python",
   "name": "python",
   "nbconvert_exporter": "python",
   "pygments_lexer": "ipython3",
   "version": "3.8.0"
  }
 },
 "nbformat": 4,
 "nbformat_minor": 5
}
