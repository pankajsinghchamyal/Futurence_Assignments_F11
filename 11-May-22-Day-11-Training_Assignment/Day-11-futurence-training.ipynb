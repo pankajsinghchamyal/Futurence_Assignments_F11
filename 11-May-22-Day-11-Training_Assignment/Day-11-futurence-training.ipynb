{
 "cells": [
  {
   "cell_type": "code",
   "execution_count": 1,
   "id": "d64c8ada-a65c-48f7-97bb-27277ee214d5",
   "metadata": {},
   "outputs": [],
   "source": [
    "var = \"dhoni\"\n"
   ]
  },
  {
   "cell_type": "code",
   "execution_count": 2,
   "id": "df91b93f-cbc5-4fa4-859e-c307dcedd115",
   "metadata": {},
   "outputs": [
    {
     "name": "stdout",
     "output_type": "stream",
     "text": [
      "d\n",
      "dhoni\n",
      "dhon\n",
      "\n",
      "\n",
      "\n",
      "dh\n",
      "doi\n",
      "iod\n"
     ]
    }
   ],
   "source": [
    "print(var[0])\n",
    "print(var[0:])\n",
    "print(var[0:4])\n",
    "print(var[2:0])\n",
    "print(var[-2:0])\n",
    "print(var[-2:-5])\n",
    "print(var[0:-3])\n",
    "print(var[::2])\n",
    "print(var[::-2])"
   ]
  },
  {
   "cell_type": "code",
   "execution_count": 3,
   "id": "7d0c2706-5c79-406b-916f-3253d9594930",
   "metadata": {},
   "outputs": [
    {
     "data": {
      "text/plain": [
       "['__add__',\n",
       " '__class__',\n",
       " '__contains__',\n",
       " '__delattr__',\n",
       " '__dir__',\n",
       " '__doc__',\n",
       " '__eq__',\n",
       " '__format__',\n",
       " '__ge__',\n",
       " '__getattribute__',\n",
       " '__getitem__',\n",
       " '__getnewargs__',\n",
       " '__gt__',\n",
       " '__hash__',\n",
       " '__init__',\n",
       " '__init_subclass__',\n",
       " '__iter__',\n",
       " '__le__',\n",
       " '__len__',\n",
       " '__lt__',\n",
       " '__mod__',\n",
       " '__mul__',\n",
       " '__ne__',\n",
       " '__new__',\n",
       " '__reduce__',\n",
       " '__reduce_ex__',\n",
       " '__repr__',\n",
       " '__rmod__',\n",
       " '__rmul__',\n",
       " '__setattr__',\n",
       " '__sizeof__',\n",
       " '__str__',\n",
       " '__subclasshook__',\n",
       " 'capitalize',\n",
       " 'casefold',\n",
       " 'center',\n",
       " 'count',\n",
       " 'encode',\n",
       " 'endswith',\n",
       " 'expandtabs',\n",
       " 'find',\n",
       " 'format',\n",
       " 'format_map',\n",
       " 'index',\n",
       " 'isalnum',\n",
       " 'isalpha',\n",
       " 'isascii',\n",
       " 'isdecimal',\n",
       " 'isdigit',\n",
       " 'isidentifier',\n",
       " 'islower',\n",
       " 'isnumeric',\n",
       " 'isprintable',\n",
       " 'isspace',\n",
       " 'istitle',\n",
       " 'isupper',\n",
       " 'join',\n",
       " 'ljust',\n",
       " 'lower',\n",
       " 'lstrip',\n",
       " 'maketrans',\n",
       " 'partition',\n",
       " 'replace',\n",
       " 'rfind',\n",
       " 'rindex',\n",
       " 'rjust',\n",
       " 'rpartition',\n",
       " 'rsplit',\n",
       " 'rstrip',\n",
       " 'split',\n",
       " 'splitlines',\n",
       " 'startswith',\n",
       " 'strip',\n",
       " 'swapcase',\n",
       " 'title',\n",
       " 'translate',\n",
       " 'upper',\n",
       " 'zfill']"
      ]
     },
     "execution_count": 3,
     "metadata": {},
     "output_type": "execute_result"
    }
   ],
   "source": [
    "dir(var)"
   ]
  },
  {
   "cell_type": "code",
   "execution_count": 4,
   "id": "d2fe4cb4-de64-4c70-9c66-b8323dac5b01",
   "metadata": {},
   "outputs": [],
   "source": [
    "var = \"maharastra\""
   ]
  },
  {
   "cell_type": "code",
   "execution_count": 5,
   "id": "0b134429-7ce2-4ce4-8eae-9863d15639b9",
   "metadata": {},
   "outputs": [
    {
     "data": {
      "text/plain": [
       "'dhonicsk'"
      ]
     },
     "execution_count": 5,
     "metadata": {},
     "output_type": "execute_result"
    }
   ],
   "source": [
    "var = \"dhoni\"'csk'\n",
    "var"
   ]
  },
  {
   "cell_type": "code",
   "execution_count": 6,
   "id": "e3fad47c-7681-4cf8-a771-c58981403e7e",
   "metadata": {},
   "outputs": [
    {
     "data": {
      "text/plain": [
       "\"dhoni 'c' sk\""
      ]
     },
     "execution_count": 6,
     "metadata": {},
     "output_type": "execute_result"
    }
   ],
   "source": [
    "var = \"dhoni 'c' sk\"\n",
    "var"
   ]
  },
  {
   "cell_type": "code",
   "execution_count": 15,
   "id": "2cea4979-09b2-4d18-bb3e-ca6ba397b3e3",
   "metadata": {},
   "outputs": [
    {
     "data": {
      "text/plain": [
       "'m'"
      ]
     },
     "execution_count": 15,
     "metadata": {},
     "output_type": "execute_result"
    }
   ],
   "source": [
    "var = \"maharastra\"\n",
    "var[0::-1]"
   ]
  },
  {
   "cell_type": "code",
   "execution_count": 17,
   "id": "6acaf4ed-91d1-4ba7-8ee5-945d44b16b1f",
   "metadata": {},
   "outputs": [
    {
     "name": "stdin",
     "output_type": "stream",
     "text": [
      "enter the data : pankaj\n"
     ]
    },
    {
     "name": "stdout",
     "output_type": "stream",
     "text": [
      "['pankaj']\n",
      "<class 'list'>\n"
     ]
    }
   ],
   "source": [
    "var = list(input(\"enter the data :\").split())\n",
    "print(var)\n",
    "print(type(var))"
   ]
  },
  {
   "cell_type": "code",
   "execution_count": 20,
   "id": "0963cf10-355f-4af6-bfce-6a98e7799025",
   "metadata": {},
   "outputs": [
    {
     "name": "stdout",
     "output_type": "stream",
     "text": [
      "my captain dhoniplays even at the age  of 33\n",
      "my captain  dhoni plays even at the age  of 33\n",
      "my captain dhoni plays even at the age  of 33 \n",
      "my captain dhoni plays even at the age  of  33\n"
     ]
    }
   ],
   "source": [
    "name = \"dhoni\"\n",
    "age = 33\n",
    "output1 = \"my captain \" + name + \"plays even at the age  of \" +str(age)\n",
    "output2 = \"my captain  %s plays even at the age  of %d\"%(name,age)\n",
    "output3 = \"my captain {} plays even at the age  of {} \".format(name, age)\n",
    "output4 = f\"my captain {name} plays even at the age  of  {age}\"\n",
    "\n",
    "print(output1)\n",
    "print(output2)\n",
    "print(output3)\n",
    "print(output4)\n"
   ]
  },
  {
   "cell_type": "code",
   "execution_count": 21,
   "id": "8bde698c-4cad-453a-a5c6-e0ec7fc5695b",
   "metadata": {},
   "outputs": [
    {
     "name": "stdout",
     "output_type": "stream",
     "text": [
      "d h o n i   p l a y s   f o r   c s k "
     ]
    }
   ],
   "source": [
    "#__iter__(hold the state of the travelled letter )\n",
    "name = \"dhoni plays for csk\"\n",
    "for x in name:\n",
    "    print(x, end= \" \")"
   ]
  },
  {
   "cell_type": "code",
   "execution_count": 24,
   "id": "76c34dd5-33d5-444d-862e-8e0496e791d6",
   "metadata": {},
   "outputs": [
    {
     "name": "stdout",
     "output_type": "stream",
     "text": [
      "d h o n i   p l a y s   f o r   c s k "
     ]
    }
   ],
   "source": [
    "for x in name:\n",
    "    print(x, end= \" \")\n",
    "    #_next__"
   ]
  },
  {
   "cell_type": "code",
   "execution_count": 25,
   "id": "efdf341f-8050-4e2d-bdd3-8a7682bf5df1",
   "metadata": {},
   "outputs": [],
   "source": [
    "#__iter__\n",
    "#__next__\n",
    "#iter()\n",
    "#generator()"
   ]
  },
  {
   "cell_type": "code",
   "execution_count": 26,
   "id": "13f43119-b39b-44e0-b8b6-c0b9b9a12202",
   "metadata": {},
   "outputs": [
    {
     "name": "stdout",
     "output_type": "stream",
     "text": [
      "d k\n",
      "h o\n",
      "o h\n",
      "n l\n",
      "i i\n"
     ]
    }
   ],
   "source": [
    "name = \"dhoni\"\n",
    "name1 = \"kohli\"\n",
    "for x,y in zip(name,name1):\n",
    "    print(x,y)"
   ]
  },
  {
   "cell_type": "code",
   "execution_count": 27,
   "id": "047802ea-f9db-4977-8a47-e9f2b50d9d5e",
   "metadata": {},
   "outputs": [
    {
     "name": "stdout",
     "output_type": "stream",
     "text": [
      "d k\n",
      "h o\n",
      "o h\n",
      "n l\n",
      "i i\n",
      "r s\n"
     ]
    }
   ],
   "source": [
    "name = \"dhonird\"\n",
    "name1 = \"kohlis\"\n",
    "for x,y in zip(name,name1):\n",
    "    print(x,y)"
   ]
  },
  {
   "cell_type": "code",
   "execution_count": 28,
   "id": "8955d2c8-e4fd-488d-8770-48ca390b01bd",
   "metadata": {},
   "outputs": [
    {
     "ename": "TypeError",
     "evalue": "iter(v, w): v must be callable",
     "output_type": "error",
     "traceback": [
      "\u001b[1;31m---------------------------------------------------------------------------\u001b[0m",
      "\u001b[1;31mTypeError\u001b[0m                                 Traceback (most recent call last)",
      "\u001b[1;32m~\\AppData\\Local\\Temp/ipykernel_12216/615745018.py\u001b[0m in \u001b[0;36m<module>\u001b[1;34m\u001b[0m\n\u001b[0;32m      1\u001b[0m \u001b[0mname\u001b[0m \u001b[1;33m=\u001b[0m \u001b[1;34m\"dhoni\"\u001b[0m\u001b[1;33m\u001b[0m\u001b[1;33m\u001b[0m\u001b[0m\n\u001b[0;32m      2\u001b[0m \u001b[0mname1\u001b[0m \u001b[1;33m=\u001b[0m \u001b[1;34m\"kohli\"\u001b[0m\u001b[1;33m\u001b[0m\u001b[1;33m\u001b[0m\u001b[0m\n\u001b[1;32m----> 3\u001b[1;33m \u001b[0moutput\u001b[0m \u001b[1;33m=\u001b[0m \u001b[0miter\u001b[0m\u001b[1;33m(\u001b[0m\u001b[0mname\u001b[0m\u001b[1;33m,\u001b[0m\u001b[0mname1\u001b[0m\u001b[1;33m)\u001b[0m\u001b[1;33m\u001b[0m\u001b[1;33m\u001b[0m\u001b[0m\n\u001b[0m\u001b[0;32m      4\u001b[0m \u001b[0mprint\u001b[0m\u001b[1;33m(\u001b[0m\u001b[0moutput\u001b[0m\u001b[1;33m)\u001b[0m\u001b[1;33m\u001b[0m\u001b[1;33m\u001b[0m\u001b[0m\n",
      "\u001b[1;31mTypeError\u001b[0m: iter(v, w): v must be callable"
     ]
    }
   ],
   "source": [
    "name = \"dhoni\"\n",
    "name1 = \"kohli\"\n",
    "output = iter(name,name1)\n",
    "print(output)"
   ]
  },
  {
   "cell_type": "code",
   "execution_count": 31,
   "id": "322417e9-fafa-4fef-8b8e-e6bf2f37a227",
   "metadata": {},
   "outputs": [
    {
     "ename": "TypeError",
     "evalue": "iter(v, w): v must be callable",
     "output_type": "error",
     "traceback": [
      "\u001b[1;31m---------------------------------------------------------------------------\u001b[0m",
      "\u001b[1;31mTypeError\u001b[0m                                 Traceback (most recent call last)",
      "\u001b[1;32m~\\AppData\\Local\\Temp/ipykernel_12216/476775069.py\u001b[0m in \u001b[0;36m<module>\u001b[1;34m\u001b[0m\n\u001b[0;32m      1\u001b[0m \u001b[0mname\u001b[0m \u001b[1;33m=\u001b[0m \u001b[1;34m\"dhoni\"\u001b[0m\u001b[1;33m\u001b[0m\u001b[1;33m\u001b[0m\u001b[0m\n\u001b[0;32m      2\u001b[0m \u001b[0mname1\u001b[0m \u001b[1;33m=\u001b[0m \u001b[1;34m\"kohli\"\u001b[0m\u001b[1;33m\u001b[0m\u001b[1;33m\u001b[0m\u001b[0m\n\u001b[1;32m----> 3\u001b[1;33m \u001b[0ma\u001b[0m \u001b[1;33m=\u001b[0m \u001b[0miter\u001b[0m\u001b[1;33m(\u001b[0m\u001b[0mname\u001b[0m\u001b[1;33m,\u001b[0m\u001b[0mname\u001b[0m\u001b[1;33m)\u001b[0m\u001b[1;33m\u001b[0m\u001b[1;33m\u001b[0m\u001b[0m\n\u001b[0m\u001b[0;32m      4\u001b[0m \u001b[0mprint\u001b[0m\u001b[1;33m(\u001b[0m\u001b[0ma\u001b[0m\u001b[1;33m)\u001b[0m\u001b[1;33m\u001b[0m\u001b[1;33m\u001b[0m\u001b[0m\n",
      "\u001b[1;31mTypeError\u001b[0m: iter(v, w): v must be callable"
     ]
    }
   ],
   "source": [
    "name = \"dhoni\"\n",
    "name1 = \"kohli\"\n",
    "a = iter(name,name)\n",
    "print(a)"
   ]
  },
  {
   "cell_type": "code",
   "execution_count": 33,
   "id": "ffcae2c2-aed5-4696-aaa1-6bdd087676a1",
   "metadata": {},
   "outputs": [
    {
     "name": "stdout",
     "output_type": "stream",
     "text": [
      "[('dhoni', 'kohli')]\n"
     ]
    }
   ],
   "source": [
    "name = [\"dhoni\",\"kohli\"]\n",
    "name1 = [\"kohli\"]\n",
    "output = list(iter(zip(name,name1)))\n",
    "print(output)"
   ]
  },
  {
   "cell_type": "code",
   "execution_count": 35,
   "id": "cf14df4e-e528-4eec-bdc9-5aedf9045bdd",
   "metadata": {},
   "outputs": [
    {
     "name": "stdout",
     "output_type": "stream",
     "text": [
      "[('dhoni', 'kohli'), ('kohli', 'raina')]\n"
     ]
    }
   ],
   "source": [
    "name = [\"dhoni\",\"kohli\"]\n",
    "name1 = [\"kohli\",\"raina\"]\n",
    "output = list(zip(name,name1))\n",
    "print(output)"
   ]
  },
  {
   "cell_type": "code",
   "execution_count": 38,
   "id": "d8fea4e5-c455-403d-96f4-941902d19bca",
   "metadata": {},
   "outputs": [
    {
     "name": "stdout",
     "output_type": "stream",
     "text": [
      "['dhoni', 'kohli']\n"
     ]
    }
   ],
   "source": [
    "name = [\"dhoni\",\"kohli\"]\n",
    "name1 = [\"kohli\"]\n",
    "output = list(iter(name))\n",
    "print(output)"
   ]
  },
  {
   "cell_type": "code",
   "execution_count": 41,
   "id": "c3e9ad6e-33fc-4045-b70f-4086014ba248",
   "metadata": {},
   "outputs": [
    {
     "name": "stdout",
     "output_type": "stream",
     "text": [
      "0\n",
      "dhoni\n",
      "1\n",
      "kohli\n"
     ]
    }
   ],
   "source": [
    "var = [\"dhoni\",\"kohli\"]\n",
    "for x,_ in enumerate(var):\n",
    "    print(x)\n",
    "    print(_)"
   ]
  },
  {
   "cell_type": "code",
   "execution_count": 46,
   "id": "0c8bd202-4597-4131-8ad8-19fc21c7c37c",
   "metadata": {},
   "outputs": [
    {
     "name": "stdout",
     "output_type": "stream",
     "text": [
      "sucess\n",
      "sucess\n",
      "sucess\n",
      "sucess\n",
      "sucess\n",
      "sucess\n",
      "sucess\n",
      "sucess\n",
      "sucess\n",
      "sucess\n"
     ]
    }
   ],
   "source": [
    "name = \"dhoni is my captain\"\n",
    "for x, y in enumerate(name):\n",
    "    if x%2 == 0:\n",
    "        print(\"sucess\")"
   ]
  },
  {
   "cell_type": "code",
   "execution_count": 47,
   "id": "254396db-f32a-416f-a83f-febc884d3ab1",
   "metadata": {},
   "outputs": [
    {
     "name": "stdout",
     "output_type": "stream",
     "text": [
      "sucess\n",
      "sucess\n"
     ]
    }
   ],
   "source": [
    "name = \"dhoni is my captain\"\n",
    "for x, y in enumerate(name):\n",
    "    if y == \"a\" or y == \"b\":\n",
    "        print(\"sucess\")"
   ]
  },
  {
   "cell_type": "code",
   "execution_count": 51,
   "id": "fd6fc7a0-5d9c-426d-97f1-1ccc570983f0",
   "metadata": {},
   "outputs": [
    {
     "name": "stdout",
     "output_type": "stream",
     "text": [
      "hii 10\n",
      "hii 8\n",
      "hii 6\n",
      "hii 4\n",
      "hii 2\n"
     ]
    }
   ],
   "source": [
    "for i in range(10,1,-2):\n",
    "    print(\"hii\",i)"
   ]
  },
  {
   "cell_type": "code",
   "execution_count": 52,
   "id": "35b01695-9ee8-4b74-abc7-ac4b8439c612",
   "metadata": {},
   "outputs": [
    {
     "name": "stdout",
     "output_type": "stream",
     "text": [
      "-1\n",
      "-2\n",
      "-3\n",
      "-4\n",
      "-5\n",
      "-6\n",
      "-7\n",
      "-8\n",
      "-9\n"
     ]
    }
   ],
   "source": [
    "output = 0\n",
    "for i in range(10,1,-1):\n",
    "    output -=1\n",
    "    print(output)\n",
    "    "
   ]
  },
  {
   "cell_type": "code",
   "execution_count": 53,
   "id": "781bdc71-8ab4-4101-809b-2732214a5649",
   "metadata": {},
   "outputs": [],
   "source": [
    "import random"
   ]
  },
  {
   "cell_type": "code",
   "execution_count": 54,
   "id": "ea8373b4-b679-41b3-9766-ea8f8c266092",
   "metadata": {},
   "outputs": [
    {
     "data": {
      "text/plain": [
       "['BPF',\n",
       " 'LOG4',\n",
       " 'NV_MAGICCONST',\n",
       " 'RECIP_BPF',\n",
       " 'Random',\n",
       " 'SG_MAGICCONST',\n",
       " 'SystemRandom',\n",
       " 'TWOPI',\n",
       " '_Sequence',\n",
       " '_Set',\n",
       " '__all__',\n",
       " '__builtins__',\n",
       " '__cached__',\n",
       " '__doc__',\n",
       " '__file__',\n",
       " '__loader__',\n",
       " '__name__',\n",
       " '__package__',\n",
       " '__spec__',\n",
       " '_accumulate',\n",
       " '_acos',\n",
       " '_bisect',\n",
       " '_ceil',\n",
       " '_cos',\n",
       " '_e',\n",
       " '_exp',\n",
       " '_inst',\n",
       " '_log',\n",
       " '_os',\n",
       " '_pi',\n",
       " '_random',\n",
       " '_repeat',\n",
       " '_sha512',\n",
       " '_sin',\n",
       " '_sqrt',\n",
       " '_test',\n",
       " '_test_generator',\n",
       " '_urandom',\n",
       " '_warn',\n",
       " 'betavariate',\n",
       " 'choice',\n",
       " 'choices',\n",
       " 'expovariate',\n",
       " 'gammavariate',\n",
       " 'gauss',\n",
       " 'getrandbits',\n",
       " 'getstate',\n",
       " 'lognormvariate',\n",
       " 'normalvariate',\n",
       " 'paretovariate',\n",
       " 'randint',\n",
       " 'random',\n",
       " 'randrange',\n",
       " 'sample',\n",
       " 'seed',\n",
       " 'setstate',\n",
       " 'shuffle',\n",
       " 'triangular',\n",
       " 'uniform',\n",
       " 'vonmisesvariate',\n",
       " 'weibullvariate']"
      ]
     },
     "execution_count": 54,
     "metadata": {},
     "output_type": "execute_result"
    }
   ],
   "source": [
    "dir(random)"
   ]
  },
  {
   "cell_type": "code",
   "execution_count": 62,
   "id": "65367df3-16a1-46b5-aa52-1248670a9272",
   "metadata": {},
   "outputs": [
    {
     "name": "stdout",
     "output_type": "stream",
     "text": [
      "randint():  2 random():  0.7998250830148375 randrange() : 15 choice():  90\n",
      "randint():  1 random():  0.5868478225634091 randrange() : 19 choice():  90\n",
      "randint():  5 random():  0.4010871162378321 randrange() : 15 choice():  22\n",
      "randint():  5 random():  0.7061211998862015 randrange() : 15 choice():  22\n",
      "randint():  6 random():  0.5444266119935997 randrange() : 15 choice():  90\n"
     ]
    }
   ],
   "source": [
    "seq = [90,40,22]\n",
    "for _ in range(5):\n",
    "    print(\"randint(): \",random.randint(1,10) ,end=\" \")\n",
    "    print(\"random(): \",random.random(),end=\" \")\n",
    "    print(\"randrange() :\", random.randrange(10,20),end=\" \")\n",
    "    print(\"choice(): \" , random.choice(seq))"
   ]
  },
  {
   "cell_type": "code",
   "execution_count": 66,
   "id": "8124a26e-316a-4a07-a4a7-91ec4b8d53c6",
   "metadata": {},
   "outputs": [],
   "source": [
    "import numpy as np\n",
    "from numpy import random as rd"
   ]
  },
  {
   "cell_type": "code",
   "execution_count": 67,
   "id": "b7af176a-4283-4722-ba9e-913b637eb8e0",
   "metadata": {},
   "outputs": [
    {
     "name": "stdout",
     "output_type": "stream",
     "text": [
      "0.1503629236621722\n",
      "0.6262988572615875\n",
      "0.6848414224621109\n",
      "0.36954206911450593\n",
      "0.9661379873565206\n"
     ]
    }
   ],
   "source": [
    "for _ in range(5):\n",
    "    print(rd.random())"
   ]
  },
  {
   "cell_type": "markdown",
   "id": "2ab0ecc9-f2ef-436f-84c6-3c6dc5c8c81f",
   "metadata": {},
   "source": [
    "moving file from one place to another place using python file shutil libaray :---"
   ]
  },
  {
   "cell_type": "markdown",
   "id": "81488cf0-8b3d-4acd-b2cd-2dc8faec167f",
   "metadata": {},
   "source": [
    "import shutil\n",
    "\n",
    "original = r'original path where the file is currently stored\\file name.file extension'\n",
    "target = r'target path where the file will be copied\\file name.file extension'\n",
    "\n",
    "shutil.copyfile(original, target)"
   ]
  },
  {
   "cell_type": "code",
   "execution_count": 68,
   "id": "11db0e37-8a1e-464a-ad6b-2400208be0d0",
   "metadata": {},
   "outputs": [],
   "source": [
    "import shutil"
   ]
  },
  {
   "cell_type": "code",
   "execution_count": 75,
   "id": "8227fd4b-a4da-4a4a-bf9a-adda9fbe683e",
   "metadata": {},
   "outputs": [
    {
     "data": {
      "text/plain": [
       "'C:\\\\Users\\\\Lenovo\\\\Desktop\\\\Training futurence\\\\original.txt'"
      ]
     },
     "execution_count": 75,
     "metadata": {},
     "output_type": "execute_result"
    }
   ],
   "source": [
    "original = r'original.txt'\n",
    "target = r'C:\\Users\\Lenovo\\Desktop\\Training futurence\\original.txt'\n",
    "shutil.move(original,target)"
   ]
  },
  {
   "cell_type": "code",
   "execution_count": 70,
   "id": "ab588a64-009e-4bb5-b5b9-184057fe481d",
   "metadata": {},
   "outputs": [
    {
     "data": {
      "text/plain": [
       "['COPY_BUFSIZE',\n",
       " 'Error',\n",
       " 'ExecError',\n",
       " 'ReadError',\n",
       " 'RegistryError',\n",
       " 'SameFileError',\n",
       " 'SpecialFileError',\n",
       " '_ARCHIVE_FORMATS',\n",
       " '_BZ2_SUPPORTED',\n",
       " '_GiveupOnFastCopy',\n",
       " '_HAS_FCOPYFILE',\n",
       " '_LZMA_SUPPORTED',\n",
       " '_UNPACK_FORMATS',\n",
       " '_USE_CP_SENDFILE',\n",
       " '_WINDOWS',\n",
       " '_ZLIB_SUPPORTED',\n",
       " '__all__',\n",
       " '__builtins__',\n",
       " '__cached__',\n",
       " '__doc__',\n",
       " '__file__',\n",
       " '__loader__',\n",
       " '__name__',\n",
       " '__package__',\n",
       " '__spec__',\n",
       " '_access_check',\n",
       " '_basename',\n",
       " '_check_unpack_options',\n",
       " '_copyfileobj_readinto',\n",
       " '_copytree',\n",
       " '_copyxattr',\n",
       " '_destinsrc',\n",
       " '_ensure_directory',\n",
       " '_fastcopy_fcopyfile',\n",
       " '_fastcopy_sendfile',\n",
       " '_find_unpack_format',\n",
       " '_get_gid',\n",
       " '_get_uid',\n",
       " '_islink',\n",
       " '_make_tarball',\n",
       " '_make_zipfile',\n",
       " '_ntuple_diskusage',\n",
       " '_rmtree_isdir',\n",
       " '_rmtree_islink',\n",
       " '_rmtree_safe_fd',\n",
       " '_rmtree_unsafe',\n",
       " '_samefile',\n",
       " '_stat',\n",
       " '_unpack_tarfile',\n",
       " '_unpack_zipfile',\n",
       " '_use_fd_functions',\n",
       " 'chown',\n",
       " 'collections',\n",
       " 'copy',\n",
       " 'copy2',\n",
       " 'copyfile',\n",
       " 'copyfileobj',\n",
       " 'copymode',\n",
       " 'copystat',\n",
       " 'copytree',\n",
       " 'disk_usage',\n",
       " 'errno',\n",
       " 'fnmatch',\n",
       " 'get_archive_formats',\n",
       " 'get_terminal_size',\n",
       " 'get_unpack_formats',\n",
       " 'getgrnam',\n",
       " 'getpwnam',\n",
       " 'ignore_patterns',\n",
       " 'make_archive',\n",
       " 'move',\n",
       " 'nt',\n",
       " 'os',\n",
       " 'posix',\n",
       " 'register_archive_format',\n",
       " 'register_unpack_format',\n",
       " 'rmtree',\n",
       " 'stat',\n",
       " 'sys',\n",
       " 'unpack_archive',\n",
       " 'unregister_archive_format',\n",
       " 'unregister_unpack_format',\n",
       " 'which']"
      ]
     },
     "execution_count": 70,
     "metadata": {},
     "output_type": "execute_result"
    }
   ],
   "source": [
    "dir(shutil)"
   ]
  },
  {
   "cell_type": "code",
   "execution_count": null,
   "id": "7dd0a56e-3e29-4fe2-b430-77baf1dd6174",
   "metadata": {},
   "outputs": [],
   "source": []
  },
  {
   "cell_type": "code",
   "execution_count": null,
   "id": "1f27b364-70d7-47d2-bb21-2f9fab1bff65",
   "metadata": {},
   "outputs": [],
   "source": []
  }
 ],
 "metadata": {
  "kernelspec": {
   "display_name": "Python 3 (ipykernel)",
   "language": "python",
   "name": "python3"
  },
  "language_info": {
   "codemirror_mode": {
    "name": "ipython",
    "version": 3
   },
   "file_extension": ".py",
   "mimetype": "text/x-python",
   "name": "python",
   "nbconvert_exporter": "python",
   "pygments_lexer": "ipython3",
   "version": "3.8.0"
  }
 },
 "nbformat": 4,
 "nbformat_minor": 5
}
