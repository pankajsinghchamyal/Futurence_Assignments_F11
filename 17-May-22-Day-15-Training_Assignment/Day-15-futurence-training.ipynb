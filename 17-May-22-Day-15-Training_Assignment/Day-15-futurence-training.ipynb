{
 "cells": [
  {
   "cell_type": "code",
   "execution_count": 1,
   "id": "6ba167b9",
   "metadata": {},
   "outputs": [],
   "source": [
    "#decorartor\n",
    "#deviaring from the original functionality"
   ]
  },
  {
   "cell_type": "code",
   "execution_count": 2,
   "id": "f42ae545",
   "metadata": {},
   "outputs": [
    {
     "name": "stdout",
     "output_type": "stream",
     "text": [
      "development data\n",
      "hello\n"
     ]
    }
   ],
   "source": [
    "#we can pass a function as a argument\n",
    "def Testing(jj):\n",
    "    jj()\n",
    "    print(\"hello\")\n",
    "def action():\n",
    "    print(\"development data\")\n",
    "Testing(action)"
   ]
  },
  {
   "cell_type": "code",
   "execution_count": 3,
   "id": "e5787413",
   "metadata": {},
   "outputs": [
    {
     "name": "stdout",
     "output_type": "stream",
     "text": [
      "Function :daily_backup\n",
      "Run on:5Y-05-18 18:00:11\n",
      "------------------------------\n",
      "daily backup job has finished\n"
     ]
    }
   ],
   "source": [
    "from datetime import datetime\n",
    "\n",
    "def log_datetime(func):\n",
    "    '''log the date and time of a function'''\n",
    "    \n",
    "    def wrapper():\n",
    "        \n",
    "        print(f'Function :{func.__name__}\\nRun on:{datetime.today().strftime(\"5Y-%m-%d %H:%M:%S\")}')\n",
    "        print(f'{\"-\"*30}')\n",
    "        func()\n",
    "    return wrapper\n",
    "              \n",
    "@log_datetime\n",
    "def daily_backup():\n",
    "    print('daily backup job has finished')\n",
    "daily_backup()\n",
    "        \n",
    "    "
   ]
  },
  {
   "cell_type": "code",
   "execution_count": 4,
   "id": "51e095ab",
   "metadata": {},
   "outputs": [
    {
     "name": "stdout",
     "output_type": "stream",
     "text": [
      "wrapper_func\n",
      "None\n"
     ]
    }
   ],
   "source": [
    "\n",
    "def my_decorator_func(my_func):\n",
    "    def wrapper_func(*args,**kwargs):\n",
    "        print(\"before the function\")\n",
    "        my_func(*args,**kwargs)\n",
    "        print(\"after the function\")\n",
    "    return wrapper_func\n",
    "\n",
    "@my_decorator_func\n",
    "def my_func(my_arg):\n",
    "    '''example docstring for function'''\n",
    "    pass\n",
    "#decorators hide the function they are decorating\n",
    "print(my_func.__name__)\n",
    "print(my_func.__doc__)\n"
   ]
  },
  {
   "cell_type": "code",
   "execution_count": 7,
   "id": "3c613f30",
   "metadata": {},
   "outputs": [
    {
     "name": "stdout",
     "output_type": "stream",
     "text": [
      "decp\n",
      "heyyy\n",
      "helloo\n"
     ]
    }
   ],
   "source": [
    "\n",
    "def h(a):\n",
    "    def wrapper(): \n",
    "        print(\"decp\")\n",
    "        a()\n",
    "        print(\"helloo\")\n",
    "    return wrapper   #2. then it returns an object to @h\n",
    "@h         #1.decorator is called first\n",
    "def func():   \n",
    "    print(\"heyyy\")\n",
    "\n",
    "func()\n",
    "    \n"
   ]
  },
  {
   "cell_type": "code",
   "execution_count": 43,
   "id": "5e7fcfc3",
   "metadata": {},
   "outputs": [
    {
     "name": "stdout",
     "output_type": "stream",
     "text": [
      "heyyy\n",
      "I am going to the store buy you something nice.\n",
      "Don't forget to bring your wallet!\n"
     ]
    }
   ],
   "source": [
    "def friendly_reminder(func):\n",
    "    '''Reminder for husband'''\n",
    "    print(\"heyyy\")\n",
    "\n",
    "    func()\n",
    "    print('Don\\'t forget to bring your wallet!')\n",
    "\n",
    "def action():\n",
    "\n",
    "    print('I am going to the store buy you something nice.')\n",
    "\n",
    "    \n",
    "friendly_reminder(action)\n"
   ]
  },
  {
   "cell_type": "markdown",
   "id": "be2549d7",
   "metadata": {},
   "source": []
  },
  {
   "cell_type": "code",
   "execution_count": null,
   "id": "8100a4e4",
   "metadata": {},
   "outputs": [],
   "source": []
  }
 ],
 "metadata": {
  "kernelspec": {
   "display_name": "Python 3 (ipykernel)",
   "language": "python",
   "name": "python3"
  },
  "language_info": {
   "codemirror_mode": {
    "name": "ipython",
    "version": 3
   },
   "file_extension": ".py",
   "mimetype": "text/x-python",
   "name": "python",
   "nbconvert_exporter": "python",
   "pygments_lexer": "ipython3",
   "version": "3.8.0"
  }
 },
 "nbformat": 4,
 "nbformat_minor": 5
}
